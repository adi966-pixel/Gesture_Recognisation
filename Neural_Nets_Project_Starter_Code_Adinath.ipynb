{
 "cells": [
  {
   "cell_type": "markdown",
   "metadata": {},
   "source": [
    "# Gesture Recognition\n",
    "In this group project, you are going to build a 3D Conv model that will be able to predict the 5 gestures correctly. Please import the following libraries to get started."
   ]
  },
  {
   "cell_type": "code",
   "execution_count": 1,
   "metadata": {},
   "outputs": [],
   "source": [
    "import numpy as np\n",
    "import os\n",
    "import datetime\n",
    "\n",
    "def imread(path):\n",
    "    from PIL import Image\n",
    "    return np.array(Image.open(path))\n",
    "\n",
    "def imresize(img, size):\n",
    "    from PIL import Image\n",
    "    return np.array(Image.fromarray(img).resize(size))\n",
    "\n",
    "from matplotlib.pyplot import imread\n",
    "from skimage.transform import resize"
   ]
  },
  {
   "cell_type": "markdown",
   "metadata": {},
   "source": [
    "We set the random seed so that the results don't vary drastically."
   ]
  },
  {
   "cell_type": "code",
   "execution_count": 2,
   "metadata": {},
   "outputs": [],
   "source": [
    "np.random.seed(30)\n",
    "import random as rn\n",
    "rn.seed(30)\n",
    "import tensorflow as tf\n",
    "from tensorflow.keras import backend as K\n",
    "tf.random.set_seed(30)"
   ]
  },
  {
   "cell_type": "markdown",
   "metadata": {},
   "source": [
    "In this block, you read the folder names for training and validation. You also set the `batch_size` here. Note that you set the batch size in such a way that you are able to use the GPU in full capacity. You keep increasing the batch size until the machine throws an error."
   ]
  },
  {
   "cell_type": "code",
   "execution_count": 3,
   "metadata": {},
   "outputs": [],
   "source": [
    "train_doc = np.random.permutation(open('Project_data/train.csv').readlines())\n",
    "val_doc = np.random.permutation(open('Project_data/val.csv').readlines())\n",
    "batch_size = 64 #experiment with the batch size"
   ]
  },
  {
   "cell_type": "markdown",
   "metadata": {},
   "source": [
    "## Generator\n",
    "This is one of the most important part of the code. The overall structure of the generator has been given. In the generator, you are going to preprocess the images as you have images of 2 different dimensions as well as create a batch of video frames. You have to experiment with `img_idx`, `y`,`z` and normalization such that you get high accuracy."
   ]
  },
  {
   "cell_type": "code",
   "execution_count": 4,
   "metadata": {},
   "outputs": [],
   "source": [
    "def generator(source_path, folder_list, batch_size):\n",
    "    print( 'Source path = ', source_path, '; batch size =', batch_size)\n",
    "    img_idx = [0,1,2,4,6,8,10,12,14,16,18,20,22,24,26,27,28,29] #create a list of image numbers you want to use for a particular video\n",
    "    while True:\n",
    "        t = np.random.permutation(folder_list)\n",
    "        num_batches = int(len(t)/batch_size) # calculate the number of batches\n",
    "        for batch in range(num_batches): # we iterate over the number of batches\n",
    "            batch_data = np.zeros((batch_size,tot_frames,ht,wd,3)) # x is the number of images you use for each video, (y,z) is the final size of the input images and 3 is the number of channels RGB\n",
    "            batch_labels = np.zeros((batch_size,5)) # batch_labels is the one hot representation of the output\n",
    "            for folder in range(batch_size): # iterate over the batch_size\n",
    "                imgs = os.listdir(source_path+'/'+ t[folder + (batch*batch_size)].split(';')[0]) # read all the images in the folder\n",
    "                for idx,item in enumerate(img_idx): #  Iterate iver the frames/images of a folder to read them in\n",
    "                    image = imread(source_path+'/'+ t[folder + (batch*batch_size)].strip().split(';')[0]+'/'+imgs[item]).astype(np.float32)\n",
    "    \n",
    "                    #crop the images and resize them. Note that the images are of 2 different shape \n",
    "                    #and the conv3D will throw error if the inputs in a batch have different shapes\n",
    "                    if image.shape[1] == 160:\n",
    "                        image = resize(image[:,20:140,:],(84,84)).astype(np.float32)\n",
    "                    else:\n",
    "                        image = resize(image,(84,84)).astype(np.float32)\n",
    "                    \n",
    "                    batch_data[folder,idx,:,:,0] = image[:,:,0] #normalise and feed in the image\n",
    "                    batch_data[folder,idx,:,:,1] = image[:,:,1] #normalise and feed in the image\n",
    "                    batch_data[folder,idx,:,:,2] = image[:,:,2] #normalise and feed in the image\n",
    "                    \n",
    "                batch_labels[folder, int(t[folder + (batch*batch_size)].strip().split(';')[2])] = 1\n",
    "            yield batch_data, batch_labels #you yield the batch_data and the batch_labels, remember what does yield do\n",
    "\n",
    "        \n",
    "        # write the code for the remaining data points which are left after full batches\n",
    "        if (len(t)%batch_size) != 0:\n",
    "            batch_data = np.zeros((len(t)%batch_size,tot_frames,ht,wd,3))\n",
    "            batch_labels = np.zeros((len(t)%batch_size,5))\n",
    "            for folder in range(len(t)%batch_size):\n",
    "                imgs = os.listdir(source_path+'/'+ t[folder + (num_batches*batch_size)].split(';')[0])\n",
    "                for idx,item in enumerate(img_idx):\n",
    "                    image = imread(source_path+'/'+ t[folder + (num_batches*batch_size)].strip().split(';')[0]+'/'+imgs[item]).astype(np.float32)\n",
    "                    if image.shape[1] == 160:\n",
    "                        image = resize(image[:,20:140,:],(84,84)).astype(np.float32)\n",
    "                    else:\n",
    "                        image = resize(image,(84,84)).astype(np.float32)\n",
    "\n",
    "                    batch_data[folder,idx,:,:,0] = image[:,:,0]\n",
    "                    batch_data[folder,idx,:,:,1] = image[:,:,1]\n",
    "                    batch_data[folder,idx,:,:,2] = image[:,:,2]\n",
    "\n",
    "                batch_labels[folder, int(t[folder + (num_batches*batch_size)].strip().split(';')[2])] = 1\n",
    "\n",
    "            yield batch_data, batch_labels\n"
   ]
  },
  {
   "cell_type": "markdown",
   "metadata": {},
   "source": [
    "Note here that a video is represented above in the generator as (number of images, height, width, number of channels). Take this into consideration while creating the model architecture."
   ]
  },
  {
   "cell_type": "code",
   "execution_count": 5,
   "metadata": {},
   "outputs": [
    {
     "name": "stdout",
     "output_type": "stream",
     "text": [
      "# training sequences = 663\n",
      "# validation sequences = 100\n",
      "# epochs = 32\n"
     ]
    }
   ],
   "source": [
    "curr_dt_time = datetime.datetime.now()\n",
    "train_path = 'Project_data/train'\n",
    "val_path = 'Project_data/val'\n",
    "num_train_sequences = len(train_doc)\n",
    "print('# training sequences =', num_train_sequences)\n",
    "num_val_sequences = len(val_doc)\n",
    "print('# validation sequences =', num_val_sequences)\n",
    "num_epochs = 32 # choose the number of epochs\n",
    "print ('# epochs =', num_epochs)"
   ]
  },
  {
   "cell_type": "markdown",
   "metadata": {},
   "source": [
    "## Model\n",
    "Here you make the model using different functionalities that Keras provides. Remember to use `Conv3D` and `MaxPooling3D` and not `Conv2D` and `Maxpooling2D` for a 3D convolution model. You would want to use `TimeDistributed` while building a Conv2D + RNN model. Also remember that the last layer is the softmax. Design the network in such a way that the model is able to give good accuracy on the least number of parameters so that it can fit in the memory of the webcam."
   ]
  },
  {
   "cell_type": "code",
   "execution_count": 6,
   "metadata": {},
   "outputs": [],
   "source": [
    "from tensorflow import keras\n",
    "from tensorflow.keras import layers\n",
    "from tensorflow.keras.models import Sequential\n",
    "from tensorflow.keras.layers import Conv3D, GRU, Flatten, TimeDistributed, Dense, MaxPool3D, Dropout, BatchNormalization, Conv2D, MaxPooling2D, Activation\n",
    "from tensorflow.keras.callbacks import ModelCheckpoint, ReduceLROnPlateau\n",
    "from tensorflow.keras import optimizers\n",
    "\n",
    "#write your model here"
   ]
  },
  {
   "cell_type": "code",
   "execution_count": 7,
   "metadata": {},
   "outputs": [],
   "source": [
    "# Specifying constants\n",
    "num_classes = 5  # total no of classes\n",
    "ht = 84         # height of image (desired)\n",
    "wd = 84         # width of image (desired)\n",
    "tot_frames = len([0,1,2,4,6,8,10,12,14,16,18,20,22,24,26,27,28,29])\n"
   ]
  },
  {
   "cell_type": "code",
   "execution_count": 15,
   "metadata": {},
   "outputs": [],
   "source": [
    "LR = ReduceLROnPlateau(monitor='val_loss', factor=0.5, patience=2, verbose=1, mode='min', min_delta=0.0001, cooldown=0, min_lr=0.00001)\n",
    "callbacks_list = [LR]"
   ]
  },
  {
   "cell_type": "code",
   "execution_count": 16,
   "metadata": {},
   "outputs": [],
   "source": [
    "conv3d_model1 = Sequential([\n",
    "    Conv3D(16, (3,3,3),padding='same', input_shape=(tot_frames,ht,wd,3), activation='relu'),\n",
    "    MaxPool3D(pool_size=(2,2,2), strides=(2,2,2)),\n",
    "    Conv3D(32, (3,3,3),padding='same', activation='relu'),\n",
    "    MaxPool3D(pool_size=(2,2,2), strides=(2,2,2)),\n",
    "    Conv3D(64, (3,3,3),padding='same', activation='relu'),\n",
    "    MaxPool3D(pool_size=(2,2,2), strides=(2,2,2)),\n",
    "    Flatten(),\n",
    "    Dense(128, activation='relu'),\n",
    "    Dense(num_classes, activation='softmax')\n",
    "])"
   ]
  },
  {
   "cell_type": "markdown",
   "metadata": {},
   "source": [
    "Now that you have written the model, the next step is to `compile` the model. When you print the `summary` of the model, you'll see the total number of parameters you have to train."
   ]
  },
  {
   "cell_type": "code",
   "execution_count": 17,
   "metadata": {
    "scrolled": true
   },
   "outputs": [
    {
     "name": "stdout",
     "output_type": "stream",
     "text": [
      "Model: \"sequential_2\"\n",
      "_________________________________________________________________\n",
      "Layer (type)                 Output Shape              Param #   \n",
      "=================================================================\n",
      "conv3d_6 (Conv3D)            (None, 18, 84, 84, 16)    1312      \n",
      "_________________________________________________________________\n",
      "max_pooling3d_6 (MaxPooling3 (None, 9, 42, 42, 16)     0         \n",
      "_________________________________________________________________\n",
      "conv3d_7 (Conv3D)            (None, 9, 42, 42, 32)     13856     \n",
      "_________________________________________________________________\n",
      "max_pooling3d_7 (MaxPooling3 (None, 4, 21, 21, 32)     0         \n",
      "_________________________________________________________________\n",
      "conv3d_8 (Conv3D)            (None, 4, 21, 21, 64)     55360     \n",
      "_________________________________________________________________\n",
      "max_pooling3d_8 (MaxPooling3 (None, 2, 10, 10, 64)     0         \n",
      "_________________________________________________________________\n",
      "flatten_2 (Flatten)          (None, 12800)             0         \n",
      "_________________________________________________________________\n",
      "dense_4 (Dense)              (None, 128)               1638528   \n",
      "_________________________________________________________________\n",
      "dense_5 (Dense)              (None, 5)                 645       \n",
      "=================================================================\n",
      "Total params: 1,709,701\n",
      "Trainable params: 1,709,701\n",
      "Non-trainable params: 0\n",
      "_________________________________________________________________\n",
      "None\n"
     ]
    }
   ],
   "source": [
    "optimiser = \"adam\" #write your optimizer\n",
    "conv3d_model1.compile(optimizer=optimiser, loss='categorical_crossentropy', metrics=['categorical_accuracy'])\n",
    "print (conv3d_model1.summary())"
   ]
  },
  {
   "cell_type": "markdown",
   "metadata": {},
   "source": [
    "Let us create the `train_generator` and the `val_generator` which will be used in `.fit_generator`."
   ]
  },
  {
   "cell_type": "code",
   "execution_count": 11,
   "metadata": {},
   "outputs": [],
   "source": [
    "train_generator = generator(train_path, train_doc, batch_size)\n",
    "val_generator = generator(val_path, val_doc, batch_size)"
   ]
  },
  {
   "cell_type": "code",
   "execution_count": 12,
   "metadata": {},
   "outputs": [
    {
     "name": "stdout",
     "output_type": "stream",
     "text": [
      "WARNING:tensorflow:`period` argument is deprecated. Please use `save_freq` to specify the frequency in number of batches seen.\n"
     ]
    }
   ],
   "source": [
    "model_name = 'model_init' + '_' + str(curr_dt_time).replace(' ','').replace(':','_') + '/'\n",
    "    \n",
    "if not os.path.exists(model_name):\n",
    "    os.mkdir(model_name)\n",
    "        \n",
    "filepath = model_name + 'model-{epoch:05d}-{loss:.5f}-{categorical_accuracy:.5f}-{val_loss:.5f}-{val_categorical_accuracy:.5f}.h5'\n",
    "\n",
    "checkpoint = ModelCheckpoint(filepath, monitor='val_loss', verbose=1, save_best_only=False, save_weights_only=False, mode='auto', period=1)\n",
    "\n",
    "LR = ReduceLROnPlateau(monitor='val_loss', factor=0.2,\n",
    "                              patience=5, min_lr=0.001) # write the REducelronplateau code here\n",
    "callbacks_list = [checkpoint, LR]"
   ]
  },
  {
   "cell_type": "markdown",
   "metadata": {},
   "source": [
    "The `steps_per_epoch` and `validation_steps` are used by `fit_generator` to decide the number of next() calls it need to make."
   ]
  },
  {
   "cell_type": "code",
   "execution_count": 13,
   "metadata": {},
   "outputs": [],
   "source": [
    "if (num_train_sequences%batch_size) == 0:\n",
    "    steps_per_epoch = int(num_train_sequences/batch_size)\n",
    "else:\n",
    "    steps_per_epoch = (num_train_sequences//batch_size) + 1\n",
    "\n",
    "if (num_val_sequences%batch_size) == 0:\n",
    "    validation_steps = int(num_val_sequences/batch_size)\n",
    "else:\n",
    "    validation_steps = (num_val_sequences//batch_size) + 1"
   ]
  },
  {
   "cell_type": "markdown",
   "metadata": {},
   "source": [
    "Let us now fit the model. This will start training the model and with the help of the checkpoints, you'll be able to save the model at the end of each epoch."
   ]
  },
  {
   "cell_type": "code",
   "execution_count": 14,
   "metadata": {
    "scrolled": true
   },
   "outputs": [
    {
     "name": "stdout",
     "output_type": "stream",
     "text": [
      "Source path =  Project_data/train ; batch size = 64\n",
      "Epoch 1/15\n",
      "11/11 [==============================] - ETA: 0s - loss: 1.8682 - categorical_accuracy: 0.1843 Source path =  Project_data/val ; batch size = 64\n",
      "11/11 [==============================] - 217s 20s/step - loss: 1.8578 - categorical_accuracy: 0.1851 - val_loss: 1.5807 - val_categorical_accuracy: 0.2300\n",
      "\n",
      "Epoch 00001: saving model to model_init_2022-07-1115_01_11.870922/model-00001-1.74294-0.19306-1.58068-0.23000.h5\n",
      "Epoch 2/15\n",
      "11/11 [==============================] - 125s 12s/step - loss: 1.5686 - categorical_accuracy: 0.2305 - val_loss: 1.4964 - val_categorical_accuracy: 0.2900\n",
      "\n",
      "Epoch 00002: saving model to model_init_2022-07-1115_01_11.870922/model-00002-1.56481-0.21418-1.49638-0.29000.h5\n",
      "Epoch 3/15\n",
      "11/11 [==============================] - 109s 11s/step - loss: 1.4393 - categorical_accuracy: 0.3484 - val_loss: 1.3230 - val_categorical_accuracy: 0.3600\n",
      "\n",
      "Epoch 00003: saving model to model_init_2022-07-1115_01_11.870922/model-00003-1.42571-0.35897-1.32303-0.36000.h5\n",
      "Epoch 4/15\n",
      "11/11 [==============================] - 118s 12s/step - loss: 1.3411 - categorical_accuracy: 0.4525 - val_loss: 1.1880 - val_categorical_accuracy: 0.4600\n",
      "\n",
      "Epoch 00004: saving model to model_init_2022-07-1115_01_11.870922/model-00004-1.30492-0.46606-1.18801-0.46000.h5\n",
      "Epoch 5/15\n",
      "11/11 [==============================] - 134s 13s/step - loss: 1.1710 - categorical_accuracy: 0.5007 - val_loss: 1.1305 - val_categorical_accuracy: 0.5100\n",
      "\n",
      "Epoch 00005: saving model to model_init_2022-07-1115_01_11.870922/model-00005-1.12817-0.53092-1.13047-0.51000.h5\n",
      "Epoch 6/15\n",
      "11/11 [==============================] - 95s 10s/step - loss: 1.0076 - categorical_accuracy: 0.5716 - val_loss: 1.1183 - val_categorical_accuracy: 0.5600\n",
      "\n",
      "Epoch 00006: saving model to model_init_2022-07-1115_01_11.870922/model-00006-0.97362-0.58673-1.11827-0.56000.h5\n",
      "Epoch 7/15\n",
      "11/11 [==============================] - 113s 11s/step - loss: 0.8955 - categorical_accuracy: 0.6251 - val_loss: 1.0374 - val_categorical_accuracy: 0.6200\n",
      "\n",
      "Epoch 00007: saving model to model_init_2022-07-1115_01_11.870922/model-00007-0.86329-0.64857-1.03738-0.62000.h5\n",
      "Epoch 8/15\n",
      "11/11 [==============================] - 109s 11s/step - loss: 0.7534 - categorical_accuracy: 0.6998 - val_loss: 1.0502 - val_categorical_accuracy: 0.6300\n",
      "\n",
      "Epoch 00008: saving model to model_init_2022-07-1115_01_11.870922/model-00008-0.70351-0.72851-1.05017-0.63000.h5\n",
      "Epoch 9/15\n",
      "11/11 [==============================] - 134s 13s/step - loss: 0.5533 - categorical_accuracy: 0.7808 - val_loss: 0.9035 - val_categorical_accuracy: 0.6700\n",
      "\n",
      "Epoch 00009: saving model to model_init_2022-07-1115_01_11.870922/model-00009-0.57453-0.77526-0.90354-0.67000.h5\n",
      "Epoch 10/15\n",
      "11/11 [==============================] - 128s 13s/step - loss: 0.5215 - categorical_accuracy: 0.8024 - val_loss: 1.3809 - val_categorical_accuracy: 0.5800\n",
      "\n",
      "Epoch 00010: saving model to model_init_2022-07-1115_01_11.870922/model-00010-0.53483-0.79638-1.38087-0.58000.h5\n",
      "Epoch 11/15\n",
      "11/11 [==============================] - 125s 13s/step - loss: 0.5282 - categorical_accuracy: 0.7818 - val_loss: 1.0941 - val_categorical_accuracy: 0.6400\n",
      "\n",
      "Epoch 00011: saving model to model_init_2022-07-1115_01_11.870922/model-00011-0.48696-0.81146-1.09409-0.64000.h5\n",
      "Epoch 12/15\n",
      "11/11 [==============================] - 100s 10s/step - loss: 0.4146 - categorical_accuracy: 0.8418 - val_loss: 0.9155 - val_categorical_accuracy: 0.7100\n",
      "\n",
      "Epoch 00012: saving model to model_init_2022-07-1115_01_11.870922/model-00012-0.38687-0.85973-0.91553-0.71000.h5\n",
      "Epoch 13/15\n",
      "11/11 [==============================] - 147s 15s/step - loss: 0.2508 - categorical_accuracy: 0.9177 - val_loss: 0.9229 - val_categorical_accuracy: 0.7500\n",
      "\n",
      "Epoch 00013: saving model to model_init_2022-07-1115_01_11.870922/model-00013-0.24539-0.92006-0.92294-0.75000.h5\n",
      "Epoch 14/15\n",
      "11/11 [==============================] - 110s 11s/step - loss: 0.1680 - categorical_accuracy: 0.9476 - val_loss: 0.7328 - val_categorical_accuracy: 0.7600\n",
      "\n",
      "Epoch 00014: saving model to model_init_2022-07-1115_01_11.870922/model-00014-0.17607-0.93967-0.73280-0.76000.h5\n",
      "Epoch 15/15\n",
      "11/11 [==============================] - 118s 12s/step - loss: 0.1797 - categorical_accuracy: 0.9387 - val_loss: 1.2103 - val_categorical_accuracy: 0.6800\n",
      "\n",
      "Epoch 00015: saving model to model_init_2022-07-1115_01_11.870922/model-00015-0.17857-0.93514-1.21031-0.68000.h5\n"
     ]
    }
   ],
   "source": [
    "history=conv3d_model1.fit(train_generator, steps_per_epoch=steps_per_epoch, epochs=15, verbose=1, \n",
    "                    callbacks=callbacks_list, validation_data=val_generator, \n",
    "                    validation_steps=validation_steps, class_weight=None, workers=1, initial_epoch=0)"
   ]
  },
  {
   "cell_type": "code",
   "execution_count": null,
   "metadata": {},
   "outputs": [],
   "source": []
  },
  {
   "cell_type": "code",
   "execution_count": 18,
   "metadata": {},
   "outputs": [],
   "source": [
    "import matplotlib.pyplot as plt\n",
    "import seaborn as sns"
   ]
  },
  {
   "cell_type": "code",
   "execution_count": 16,
   "metadata": {},
   "outputs": [
    {
     "data": {
      "image/png": "[encoded data removed]",
      "text/plain": [
       "<Figure size 720x504 with 2 Axes>"
      ]
     },
     "metadata": {
      "needs_background": "light"
     },
     "output_type": "display_data"
    }
   ],
   "source": [
    "acc = history.history['categorical_accuracy']\n",
    "val_acc = history.history['val_categorical_accuracy']\n",
    "\n",
    "loss = history.history['loss']\n",
    "val_loss = history.history['val_loss']\n",
    "\n",
    "epochs_range = range(15)\n",
    "\n",
    "plt.figure(figsize=(10,7))\n",
    "plt.subplot(1, 2, 1)\n",
    "plt.plot(epochs_range, acc, label='Training Accuracy')\n",
    "plt.plot(epochs_range, val_acc, label='Validation Accuracy')\n",
    "plt.legend(loc='lower right')\n",
    "plt.title('Training and Validation Accuracy')\n",
    "\n",
    "plt.subplot(1, 2, 2)\n",
    "plt.plot(epochs_range, loss, label='Training Loss')\n",
    "plt.plot(epochs_range, val_loss, label='Validation Loss')\n",
    "plt.legend(loc='upper right')\n",
    "plt.title('Training and Validation Loss')\n",
    "plt.show()"
   ]
  },
  {
   "cell_type": "code",
   "execution_count": 17,
   "metadata": {},
   "outputs": [],
   "source": [
    "conv3d_model1.save('model-1.h5')"
   ]
  },
  {
   "cell_type": "markdown",
   "metadata": {},
   "source": [
    "we have Created the model without BatchNormalization and Dropout and activation function ReLU and here we can see model is overfitting having good accuracy score with training and very poor accuracy score with validation"
   ]
  },
  {
   "cell_type": "markdown",
   "metadata": {},
   "source": [
    "#### Now we will create a model with BatchNormalization and Dropout and also increasing the bathch size to 128"
   ]
  },
  {
   "cell_type": "code",
   "execution_count": 18,
   "metadata": {},
   "outputs": [],
   "source": [
    "C3d_model2 = Sequential([\n",
    "    Conv3D(16, (3,3,3),padding='same', input_shape=(tot_frames,ht,wd,3), activation='relu'),\n",
    "    BatchNormalization(),\n",
    "    MaxPool3D(pool_size=(2,2,2), strides=(2,2,2)),\n",
    "    Conv3D(32, (3,3,3),padding='same', activation='relu'),\n",
    "    BatchNormalization(),\n",
    "    MaxPool3D(pool_size=(2,2,2), strides=(2,2,2)),\n",
    "    Conv3D(64, (3,3,3),padding='same', activation='relu'),\n",
    "    MaxPool3D(pool_size=(2,2,2), strides=(2,2,2)),\n",
    "    Flatten(),\n",
    "    Dropout(0.25),\n",
    "    Dense(128, activation='relu'),\n",
    "    Dense(num_classes, activation='softmax')\n",
    "])"
   ]
  },
  {
   "cell_type": "code",
   "execution_count": 19,
   "metadata": {},
   "outputs": [
    {
     "name": "stdout",
     "output_type": "stream",
     "text": [
      "Model: \"sequential_1\"\n",
      "_________________________________________________________________\n",
      "Layer (type)                 Output Shape              Param #   \n",
      "=================================================================\n",
      "conv3d_3 (Conv3D)            (None, 18, 84, 84, 16)    1312      \n",
      "_________________________________________________________________\n",
      "batch_normalization (BatchNo (None, 18, 84, 84, 16)    64        \n",
      "_________________________________________________________________\n",
      "max_pooling3d_3 (MaxPooling3 (None, 9, 42, 42, 16)     0         \n",
      "_________________________________________________________________\n",
      "conv3d_4 (Conv3D)            (None, 9, 42, 42, 32)     13856     \n",
      "_________________________________________________________________\n",
      "batch_normalization_1 (Batch (None, 9, 42, 42, 32)     128       \n",
      "_________________________________________________________________\n",
      "max_pooling3d_4 (MaxPooling3 (None, 4, 21, 21, 32)     0         \n",
      "_________________________________________________________________\n",
      "conv3d_5 (Conv3D)            (None, 4, 21, 21, 64)     55360     \n",
      "_________________________________________________________________\n",
      "max_pooling3d_5 (MaxPooling3 (None, 2, 10, 10, 64)     0         \n",
      "_________________________________________________________________\n",
      "flatten_1 (Flatten)          (None, 12800)             0         \n",
      "_________________________________________________________________\n",
      "dropout (Dropout)            (None, 12800)             0         \n",
      "_________________________________________________________________\n",
      "dense_2 (Dense)              (None, 128)               1638528   \n",
      "_________________________________________________________________\n",
      "dense_3 (Dense)              (None, 5)                 645       \n",
      "=================================================================\n",
      "Total params: 1,709,893\n",
      "Trainable params: 1,709,797\n",
      "Non-trainable params: 96\n",
      "_________________________________________________________________\n",
      "None\n"
     ]
    }
   ],
   "source": [
    "# Compiling\n",
    "C3d_model2.compile(optimizer='adam',\n",
    "              loss = 'categorical_crossentropy',\n",
    "              metrics=['categorical_accuracy'])\n",
    "print(C3d_model2.summary())\n"
   ]
  },
  {
   "cell_type": "code",
   "execution_count": 20,
   "metadata": {},
   "outputs": [],
   "source": [
    "#setting batch size 128\n",
    "batch_size = 128\n",
    "\n",
    "# For training set\n",
    "if (num_train_sequences%batch_size) == 0:\n",
    "    steps_per_epoch = int(num_train_sequences/batch_size)\n",
    "else:\n",
    "    steps_per_epoch = int(num_train_sequences//batch_size) + 1\n",
    "    \n",
    "# For validation set\n",
    "if (num_val_sequences%batch_size) == 0:\n",
    "    validation_steps = int(num_val_sequences/batch_size)\n",
    "else:\n",
    "    validation_steps = int(num_val_sequences//batch_size) + 1"
   ]
  },
  {
   "cell_type": "code",
   "execution_count": 21,
   "metadata": {},
   "outputs": [],
   "source": [
    "# Generators Object\n",
    "train_generator = generator(train_path,train_doc,batch_size)\n",
    "val_generator = generator(val_path,val_doc,batch_size)"
   ]
  },
  {
   "cell_type": "code",
   "execution_count": null,
   "metadata": {
    "scrolled": true
   },
   "outputs": [
    {
     "name": "stdout",
     "output_type": "stream",
     "text": [
      "Source path =  Project_data/train ; batch size = 128\n",
      "Epoch 1/15\n",
      "6/6 [==============================] - ETA: 0s - loss: 10.4229 - categorical_accuracy: 0.2087 Source path =  Project_data/val ; batch size = 128\n",
      "6/6 [==============================] - 116s 23s/step - loss: 10.3746 - categorical_accuracy: 0.2104 - val_loss: 1.6080 - val_categorical_accuracy: 0.1800\n",
      "\n",
      "Epoch 00001: saving model to model_init_2022-07-1115_01_11.870922/model-00001-10.08488-0.22021-1.60801-0.18000.h5\n",
      "Epoch 2/15\n",
      "6/6 [==============================] - 147s 29s/step - loss: 2.2907 - categorical_accuracy: 0.2293 - val_loss: 1.6094 - val_categorical_accuracy: 0.2000\n",
      "\n",
      "Epoch 00002: saving model to model_init_2022-07-1115_01_11.870922/model-00002-2.04995-0.23982-1.60941-0.20000.h5\n",
      "Epoch 3/15\n",
      "6/6 [==============================] - 120s 24s/step - loss: 1.5463 - categorical_accuracy: 0.3365 - val_loss: 1.6108 - val_categorical_accuracy: 0.1600\n",
      "\n",
      "Epoch 00003: saving model to model_init_2022-07-1115_01_11.870922/model-00003-1.54573-0.33937-1.61081-0.16000.h5\n",
      "Epoch 4/15\n",
      "2/6 [=========>....................] - ETA: 1:56 - loss: 1.5153 - categorical_accuracy: 0.4043"
     ]
    }
   ],
   "source": [
    "# Fitting the model\n",
    "history = C3d_model2.fit(train_generator,\n",
    "          epochs=15,\n",
    "          callbacks=callbacks_list,\n",
    "          validation_data=val_generator, steps_per_epoch=steps_per_epoch,validation_steps=validation_steps)"
   ]
  },
  {
   "cell_type": "code",
   "execution_count": null,
   "metadata": {},
   "outputs": [],
   "source": [
    "acc = history.history['categorical_accuracy']\n",
    "val_acc = history.history['val_categorical_accuracy']\n",
    "\n",
    "loss = history.history['loss']\n",
    "val_loss = history.history['val_loss']\n",
    "\n",
    "epochs_range = range(15)\n",
    "\n",
    "plt.figure(figsize=(10,7))\n",
    "plt.subplot(1, 2, 1)\n",
    "plt.plot(epochs_range, acc, label='Training Accuracy')\n",
    "plt.plot(epochs_range, val_acc, label='Validation Accuracy')\n",
    "plt.legend(loc='lower right')\n",
    "plt.title('Training and Validation Accuracy')\n",
    "\n",
    "plt.subplot(1, 2, 2)\n",
    "plt.plot(epochs_range, loss, label='Training Loss')\n",
    "plt.plot(epochs_range, val_loss, label='Validation Loss')\n",
    "plt.legend(loc='upper right')\n",
    "plt.title('Training and Validation Loss')\n",
    "plt.show()"
   ]
  },
  {
   "cell_type": "code",
   "execution_count": null,
   "metadata": {},
   "outputs": [],
   "source": [
    "C3d_model2.save('model-2.h5')"
   ]
  },
  {
   "cell_type": "markdown",
   "metadata": {},
   "source": [
    "As we can observe in the above video model is still overfitting so batch size is not optional choise over here we should use the batch= 64 only cause after using batch size = 128 overfitting problem increase drastactically insted of decreasing"
   ]
  },
  {
   "cell_type": "markdown",
   "metadata": {},
   "source": [
    "#### Now we will make a model like model no 1 but this time we are going to change the batch size from 128 to 64 and reducing  some parameters by reducing no of neurons in the last hidden layer"
   ]
  },
  {
   "cell_type": "code",
   "execution_count": null,
   "metadata": {},
   "outputs": [],
   "source": [
    "C3d_model3 = Sequential([\n",
    "    Conv3D(16, (3,3,3),padding='same', input_shape=(tot_frames,ht,wd,3), activation='relu'),\n",
    "    MaxPool3D(pool_size=(2,2,2), strides=(2,2,2)),\n",
    "    Conv3D(32, (3,3,3),padding='same', activation='relu'),\n",
    "    MaxPool3D(pool_size=(2,2,2), strides=(2,2,2)),\n",
    "    Conv3D(64, (3,3,3),padding='same', activation='relu'),\n",
    "    MaxPool3D(pool_size=(2,2,2), strides=(2,2,2)),\n",
    "    Flatten(),\n",
    "    Dense(64, activation='relu'),  # Last hidden layer neurons reduced to 64\n",
    "    Dense(num_classes, activation='softmax')\n",
    "])"
   ]
  },
  {
   "cell_type": "code",
   "execution_count": null,
   "metadata": {},
   "outputs": [],
   "source": [
    "# compiling the model\n",
    "C3d_model3.compile(optimizer='adam',\n",
    "              loss = 'categorical_crossentropy',\n",
    "              metrics=['categorical_accuracy'])\n",
    "print(C3d_model3.summary())\n"
   ]
  },
  {
   "cell_type": "code",
   "execution_count": null,
   "metadata": {},
   "outputs": [],
   "source": [
    "# Again setting batch size = 64\n",
    "batch_size = 64"
   ]
  },
  {
   "cell_type": "code",
   "execution_count": null,
   "metadata": {},
   "outputs": [],
   "source": [
    "# Training set\n",
    "if (num_train_sequences%batch_size) == 0:\n",
    "    steps_per_epoch = int(num_train_sequences/batch_size)\n",
    "else:\n",
    "    steps_per_epoch = int(num_train_sequences//batch_size) + 1\n",
    "    \n",
    "# Validation set\n",
    "if (num_val_sequences%batch_size) == 0:\n",
    "    validation_steps = int(num_val_sequences/batch_size)\n",
    "else:\n",
    "    validation_steps = int(num_val_sequences//batch_size) + 1"
   ]
  },
  {
   "cell_type": "code",
   "execution_count": null,
   "metadata": {},
   "outputs": [],
   "source": [
    "# Like model1 and 2 creating generator for model 3 \n",
    "train_generator = generator(train_path,train_doc,batch_size)\n",
    "val_generator = generator(val_path,val_doc,batch_size)"
   ]
  },
  {
   "cell_type": "code",
   "execution_count": null,
   "metadata": {
    "scrolled": true
   },
   "outputs": [],
   "source": [
    "# Modell fitting\n",
    "history = C3d_model3.fit(train_generator,\n",
    "          epochs=20,\n",
    "          callbacks=callbacks_list,\n",
    "          validation_data=val_generator, steps_per_epoch=steps_per_epoch,validation_steps=validation_steps)"
   ]
  },
  {
   "cell_type": "code",
   "execution_count": null,
   "metadata": {},
   "outputs": [],
   "source": [
    "# Again ploting the Training and Validation scores of model3\n",
    "\n",
    "acc = history.history['categorical_accuracy']\n",
    "val_acc = history.history['val_categorical_accuracy']\n",
    "\n",
    "loss = history.history['loss']\n",
    "val_loss = history.history['val_loss']\n",
    "\n",
    "epochs_range = range(20)\n",
    "\n",
    "plt.figure(figsize=(10,7))\n",
    "plt.subplot(1, 2, 1)\n",
    "plt.plot(epochs_range, acc, label='Training Accuracy')\n",
    "plt.plot(epochs_range, val_acc, label='Validation Accuracy')\n",
    "plt.legend(loc='lower right')\n",
    "plt.title('Training and Validation Accuracy')\n",
    "\n",
    "plt.subplot(1, 2, 2)\n",
    "plt.plot(epochs_range, loss, label='Training Loss')\n",
    "plt.plot(epochs_range, val_loss, label='Validation Loss')\n",
    "plt.legend(loc='upper right')\n",
    "plt.title('Training and Validation Loss')\n",
    "plt.show()"
   ]
  },
  {
   "cell_type": "code",
   "execution_count": null,
   "metadata": {},
   "outputs": [],
   "source": [
    "C3d_model3.save('model-3.h5')"
   ]
  },
  {
   "cell_type": "markdown",
   "metadata": {},
   "source": [
    "As we can see in the above plot overfitting problem is reduced somehow with lower number pf parameter and having batch size =64 so it seems to be the good model as compaired to the model 1 and 2"
   ]
  },
  {
   "cell_type": "markdown",
   "metadata": {},
   "source": [
    "#### Now we will try the same model with lowe batch size which is 32"
   ]
  },
  {
   "cell_type": "code",
   "execution_count": 9,
   "metadata": {},
   "outputs": [],
   "source": [
    "C3d_model4 = Sequential([\n",
    "    Conv3D(16, (3,3,3),padding='same', input_shape=(tot_frames,ht,wd,3), activation='relu'),\n",
    "    MaxPool3D(pool_size=(2,2,2), strides=(2,2,2)),\n",
    "    Conv3D(32, (3,3,3),padding='same', activation='relu'),\n",
    "    MaxPool3D(pool_size=(2,2,2), strides=(2,2,2)),\n",
    "    Conv3D(64, (3,3,3),padding='same', activation='relu'),\n",
    "    MaxPool3D(pool_size=(2,2,2), strides=(2,2,2)),\n",
    "    Flatten(),\n",
    "    Dense(64, activation='relu'),  # Last hidden layer neurons reduced to 64\n",
    "    Dense(num_classes, activation='softmax')\n",
    "])\n"
   ]
  },
  {
   "cell_type": "code",
   "execution_count": 10,
   "metadata": {},
   "outputs": [
    {
     "name": "stdout",
     "output_type": "stream",
     "text": [
      "Model: \"sequential_1\"\n",
      "_________________________________________________________________\n",
      "Layer (type)                 Output Shape              Param #   \n",
      "=================================================================\n",
      "conv3d_3 (Conv3D)            (None, 18, 84, 84, 16)    1312      \n",
      "_________________________________________________________________\n",
      "max_pooling3d_3 (MaxPooling3 (None, 9, 42, 42, 16)     0         \n",
      "_________________________________________________________________\n",
      "conv3d_4 (Conv3D)            (None, 9, 42, 42, 32)     13856     \n",
      "_________________________________________________________________\n",
      "max_pooling3d_4 (MaxPooling3 (None, 4, 21, 21, 32)     0         \n",
      "_________________________________________________________________\n",
      "conv3d_5 (Conv3D)            (None, 4, 21, 21, 64)     55360     \n",
      "_________________________________________________________________\n",
      "max_pooling3d_5 (MaxPooling3 (None, 2, 10, 10, 64)     0         \n",
      "_________________________________________________________________\n",
      "flatten_1 (Flatten)          (None, 12800)             0         \n",
      "_________________________________________________________________\n",
      "dense_2 (Dense)              (None, 64)                819264    \n",
      "_________________________________________________________________\n",
      "dense_3 (Dense)              (None, 5)                 325       \n",
      "=================================================================\n",
      "Total params: 890,117\n",
      "Trainable params: 890,117\n",
      "Non-trainable params: 0\n",
      "_________________________________________________________________\n",
      "None\n"
     ]
    }
   ],
   "source": [
    "# Model compiling\n",
    "C3d_model4.compile(optimizer='adam',\n",
    "              loss = 'categorical_crossentropy',\n",
    "              metrics=['categorical_accuracy'])\n",
    "print(C3d_model4.summary())\n"
   ]
  },
  {
   "cell_type": "code",
   "execution_count": 11,
   "metadata": {},
   "outputs": [],
   "source": [
    "# Setting batch size= 32\n",
    "batch_size = 32"
   ]
  },
  {
   "cell_type": "code",
   "execution_count": 12,
   "metadata": {},
   "outputs": [],
   "source": [
    "# Training set\n",
    "if (num_train_sequences%batch_size) == 0:\n",
    "    steps_per_epoch = int(num_train_sequences/batch_size)\n",
    "else:\n",
    "    steps_per_epoch = int(num_train_sequences//batch_size) + 1\n",
    "    \n",
    "# Validation set\n",
    "if (num_val_sequences%batch_size) == 0:\n",
    "    validation_steps = int(num_val_sequences/batch_size)\n",
    "else:\n",
    "    validation_steps = int(num_val_sequences//batch_size) + 1"
   ]
  },
  {
   "cell_type": "code",
   "execution_count": 13,
   "metadata": {},
   "outputs": [],
   "source": [
    "# Creating Generator\n",
    "train_generator = generator(train_path,train_doc,batch_size)\n",
    "val_generator = generator(val_path,val_doc,batch_size)\n"
   ]
  },
  {
   "cell_type": "code",
   "execution_count": 19,
   "metadata": {
    "scrolled": true
   },
   "outputs": [
    {
     "name": "stdout",
     "output_type": "stream",
     "text": [
      "Source path =  Project_data/train ; batch size = 32\n",
      "Epoch 1/15\n",
      "21/21 [==============================] - ETA: 0s - loss: 1.7136 - categorical_accuracy: 0.2029 Source path =  Project_data/val ; batch size = 32\n",
      "21/21 [==============================] - 259s 12s/step - loss: 1.7103 - categorical_accuracy: 0.2031 - val_loss: 1.5133 - val_categorical_accuracy: 0.2400\n",
      "Epoch 2/15\n",
      "21/21 [==============================] - 94s 5s/step - loss: 1.4820 - categorical_accuracy: 0.3057 - val_loss: 1.3358 - val_categorical_accuracy: 0.4200\n",
      "Epoch 3/15\n",
      "21/21 [==============================] - 93s 5s/step - loss: 1.3119 - categorical_accuracy: 0.4411 - val_loss: 1.1231 - val_categorical_accuracy: 0.5100\n",
      "Epoch 4/15\n",
      "21/21 [==============================] - 89s 4s/step - loss: 1.2193 - categorical_accuracy: 0.4650 - val_loss: 1.1085 - val_categorical_accuracy: 0.5000\n",
      "Epoch 5/15\n",
      "21/21 [==============================] - 93s 5s/step - loss: 1.2026 - categorical_accuracy: 0.4931 - val_loss: 1.1061 - val_categorical_accuracy: 0.5400\n",
      "Epoch 6/15\n",
      "21/21 [==============================] - 93s 5s/step - loss: 1.1128 - categorical_accuracy: 0.5373 - val_loss: 1.0563 - val_categorical_accuracy: 0.5200\n",
      "Epoch 7/15\n",
      "21/21 [==============================] - 168s 8s/step - loss: 0.9876 - categorical_accuracy: 0.5865 - val_loss: 0.9480 - val_categorical_accuracy: 0.6100\n",
      "Epoch 8/15\n",
      "21/21 [==============================] - 171s 9s/step - loss: 0.8755 - categorical_accuracy: 0.6691 - val_loss: 1.0177 - val_categorical_accuracy: 0.6400\n",
      "Epoch 9/15\n",
      "21/21 [==============================] - 176s 9s/step - loss: 0.6651 - categorical_accuracy: 0.7392 - val_loss: 0.8760 - val_categorical_accuracy: 0.6800\n",
      "Epoch 10/15\n",
      "21/21 [==============================] - 178s 9s/step - loss: 0.6289 - categorical_accuracy: 0.7423 - val_loss: 0.7704 - val_categorical_accuracy: 0.7300\n",
      "Epoch 11/15\n",
      "21/21 [==============================] - 178s 9s/step - loss: 0.4514 - categorical_accuracy: 0.8397 - val_loss: 0.6653 - val_categorical_accuracy: 0.7600\n",
      "Epoch 12/15\n",
      "21/21 [==============================] - 159s 8s/step - loss: 0.4799 - categorical_accuracy: 0.8277 - val_loss: 0.9907 - val_categorical_accuracy: 0.6500\n",
      "Epoch 13/15\n",
      "21/21 [==============================] - 91s 5s/step - loss: 0.3560 - categorical_accuracy: 0.8724 - val_loss: 0.7404 - val_categorical_accuracy: 0.7000\n",
      "\n",
      "Epoch 00013: ReduceLROnPlateau reducing learning rate to 0.0005000000237487257.\n",
      "Epoch 14/15\n",
      "21/21 [==============================] - 93s 5s/step - loss: 0.1930 - categorical_accuracy: 0.9439 - val_loss: 0.6857 - val_categorical_accuracy: 0.7900\n",
      "Epoch 15/15\n",
      "21/21 [==============================] - 95s 5s/step - loss: 0.1676 - categorical_accuracy: 0.9520 - val_loss: 0.8497 - val_categorical_accuracy: 0.7400\n",
      "\n",
      "Epoch 00015: ReduceLROnPlateau reducing learning rate to 0.0002500000118743628.\n"
     ]
    }
   ],
   "source": [
    "# Model fitting\n",
    "history = C3d_model4.fit(train_generator,\n",
    "          epochs=15,\n",
    "          callbacks=callbacks_list,\n",
    "          validation_data=val_generator, steps_per_epoch=steps_per_epoch,validation_steps=validation_steps)"
   ]
  },
  {
   "cell_type": "code",
   "execution_count": null,
   "metadata": {},
   "outputs": [],
   "source": [
    "# Again ploting the Training and Validation scores of model3\n",
    "\n",
    "acc = history.history['categorical_accuracy']\n",
    "val_acc = history.history['val_categorical_accuracy']\n",
    "\n",
    "loss = history.history['loss']\n",
    "val_loss = history.history['val_loss']\n",
    "\n",
    "epochs_range = range(15)\n",
    "\n",
    "plt.figure(figsize=(10,7))\n",
    "plt.subplot(1, 2, 1)\n",
    "plt.plot(epochs_range, acc, label='Training Accuracy')\n",
    "plt.plot(epochs_range, val_acc, label='Validation Accuracy')\n",
    "plt.legend(loc='lower right')\n",
    "plt.title('Training and Validation Accuracy')\n",
    "\n",
    "plt.subplot(1, 2, 2)\n",
    "plt.plot(epochs_range, loss, label='Training Loss')\n",
    "plt.plot(epochs_range, val_loss, label='Validation Loss')\n",
    "plt.legend(loc='upper right')\n",
    "plt.title('Training and Validation Loss')\n",
    "plt.show()"
   ]
  },
  {
   "cell_type": "code",
   "execution_count": 20,
   "metadata": {},
   "outputs": [],
   "source": [
    "C3d_model4.save('model-4.h5')"
   ]
  },
  {
   "cell_type": "markdown",
   "metadata": {},
   "source": [
    "We can say this is the best model out of all above because it is the least ovrfit model"
   ]
  },
  {
   "cell_type": "markdown",
   "metadata": {},
   "source": [
    "#### Now we will try to add  one more hidden layer with same bathch size which is 32 and Using dropouts = 25%"
   ]
  },
  {
   "cell_type": "code",
   "execution_count": null,
   "metadata": {},
   "outputs": [],
   "source": [
    "C3d_model5 = Sequential([\n",
    "    Conv3D(16, (3,3,3),padding='same', input_shape=(tot_frames,ht,wd,3), activation='relu'),\n",
    "    MaxPool3D(pool_size=(2,2,2), strides=(2,2,2)),\n",
    "    Conv3D(32, (3,3,3),padding='same', activation='relu'),\n",
    "    MaxPool3D(pool_size=(2,2,2), strides=(2,2,2)),\n",
    "    Conv3D(64, (3,3,3),padding='same', activation='relu'),\n",
    "    MaxPool3D(pool_size=(2,2,2), strides=(2,2,2)),\n",
    "    Conv3D(128, (3,3,3),padding='same', activation='relu'),\n",
    "    MaxPool3D(pool_size=(2,2,2), strides=(2,2,2)),\n",
    "    Flatten(),\n",
    "    Dropout(0.25),\n",
    "    Dense(64, activation='relu'),  # Last hidden layer neurons reduced to 64\n",
    "    Dense(num_classes, activation='softmax')\n",
    "])\n"
   ]
  },
  {
   "cell_type": "code",
   "execution_count": null,
   "metadata": {},
   "outputs": [],
   "source": [
    "# Model compilation\n",
    "C3d_model5.compile(optimizer='adam',\n",
    "              loss = 'categorical_crossentropy',\n",
    "              metrics=['categorical_accuracy'])\n",
    "print(C3d_model5.summary())\n",
    "\n"
   ]
  },
  {
   "cell_type": "code",
   "execution_count": null,
   "metadata": {},
   "outputs": [],
   "source": [
    "# Setting batch size\n",
    "batch_size = 32"
   ]
  },
  {
   "cell_type": "code",
   "execution_count": null,
   "metadata": {},
   "outputs": [],
   "source": [
    "# Training set\n",
    "if (num_train_sequences%batch_size) == 0:\n",
    "    steps_per_epoch = int(num_train_sequences/batch_size)\n",
    "else:\n",
    "    steps_per_epoch = int(num_train_sequences//batch_size) + 1\n",
    "    \n",
    "# Validation set\n",
    "if (num_val_sequences%batch_size) == 0:\n",
    "    validation_steps = int(num_val_sequences/batch_size)\n",
    "else:\n",
    "    validation_steps = int(num_val_sequences//batch_size) + 1\n"
   ]
  },
  {
   "cell_type": "code",
   "execution_count": null,
   "metadata": {},
   "outputs": [],
   "source": [
    "# Generator object creating\n",
    "train_generator = generator(train_path,train_doc,batch_size)\n",
    "val_generator = generator(val_path,val_doc,batch_size)\n",
    "\n"
   ]
  },
  {
   "cell_type": "code",
   "execution_count": null,
   "metadata": {},
   "outputs": [],
   "source": [
    "# Model Fitting\n",
    "history = C3d_model5.fit(train_generator,\n",
    "          epochs=15,\n",
    "          callbacks=callbacks_list,\n",
    "          validation_data=val_generator, steps_per_epoch=steps_per_epoch,validation_steps=validation_steps)"
   ]
  },
  {
   "cell_type": "code",
   "execution_count": null,
   "metadata": {},
   "outputs": [],
   "source": [
    "# Again ploting the Training and Validation scores of model3\n",
    "\n",
    "acc = history.history['categorical_accuracy']\n",
    "val_acc = history.history['val_categorical_accuracy']\n",
    "\n",
    "loss = history.history['loss']\n",
    "val_loss = history.history['val_loss']\n",
    "\n",
    "epochs_range = range(15)\n",
    "\n",
    "plt.figure(figsize=(10,7))\n",
    "plt.subplot(1, 2, 1)\n",
    "plt.plot(epochs_range, acc, label='Training Accuracy')\n",
    "plt.plot(epochs_range, val_acc, label='Validation Accuracy')\n",
    "plt.legend(loc='lower right')\n",
    "plt.title('Training and Validation Accuracy')\n",
    "\n",
    "plt.subplot(1, 2, 2)\n",
    "plt.plot(epochs_range, loss, label='Training Loss')\n",
    "plt.plot(epochs_range, val_loss, label='Validation Loss')\n",
    "plt.legend(loc='upper right')\n",
    "plt.title('Training and Validation Loss')\n",
    "plt.show()"
   ]
  },
  {
   "cell_type": "code",
   "execution_count": null,
   "metadata": {},
   "outputs": [],
   "source": [
    "C3d_model5.save('model-5.h5')"
   ]
  },
  {
   "cell_type": "markdown",
   "metadata": {},
   "source": [
    "Trying with diffrent model\n",
    "- In this model, we convert images to grayscale from RGB\n",
    "- This will help us get results faster as memory consumed for each batch will be reduced\n",
    "- We have to modify our existing `data generator` for converting images to grayscale"
   ]
  },
  {
   "cell_type": "code",
   "execution_count": 10,
   "metadata": {},
   "outputs": [],
   "source": [
    "from skimage import io\n",
    "from skimage.color import rgb2gray"
   ]
  },
  {
   "cell_type": "markdown",
   "metadata": {},
   "source": [
    "## Defing Generator"
   ]
  },
  {
   "cell_type": "code",
   "execution_count": 11,
   "metadata": {},
   "outputs": [],
   "source": [
    "def generator_grayscale(source_path, folder_list, batch_size):\n",
    "    print( 'Source path = ', source_path, '; batch size =', batch_size)\n",
    "    img_idx = [0,1,2,4,6,8,10,12,14,16,18,20,22,24,26,27,28,29]\n",
    "    while True:\n",
    "        t = np.random.permutation(folder_list)\n",
    "        num_batches = int(len(t)/batch_size)\n",
    "        for batch in range(num_batches):\n",
    "            batch_data = np.zeros((batch_size,tot_frames,ht,wd))\n",
    "            batch_labels = np.zeros((batch_size,5))\n",
    "            for folder in range(batch_size):\n",
    "                imgs = os.listdir(source_path+'/'+ t[folder + (batch*batch_size)].split(';')[0])\n",
    "                for idx,item in enumerate(img_idx):\n",
    "                    image = rgb2gray(imread(source_path+'/'+ t[folder + (batch*batch_size)].strip().split(';')[0]+'/'+imgs[item]).astype(np.float32))\n",
    "                    if image.shape[1] == 160:\n",
    "                        image = resize(image[:,20:140],(84,84)).astype(np.float32)\n",
    "                    else:\n",
    "                        image = resize(image,(84,84)).astype(np.float32)\n",
    "                    \n",
    "                    batch_data[folder,idx,:,:] = image\n",
    "                    \n",
    "                batch_labels[folder, int(t[folder + (batch*batch_size)].strip().split(';')[2])] = 1\n",
    "            yield batch_data, batch_labels\n",
    "\n",
    "        if (len(t)%batch_size) != 0:\n",
    "            batch_data = np.zeros((len(t)%batch_size,tot_frames,ht,wd))\n",
    "            batch_labels = np.zeros((len(t)%batch_size,5))\n",
    "            for folder in range(len(t)%batch_size):\n",
    "                imgs = os.listdir(source_path+'/'+ t[folder + (num_batches*batch_size)].split(';')[0])\n",
    "                for idx,item in enumerate(img_idx):\n",
    "                    image = rgb2gray(imread(source_path+'/'+ t[folder + (num_batches*batch_size)].strip().split(';')[0]+'/'+imgs[item]).astype(np.float32))\n",
    "                    if image.shape[1] == 160:\n",
    "                        image = resize(image[:,20:140],(84,84)).astype(np.float32)\n",
    "                    else:\n",
    "                        image = resize(image,(84,84)).astype(np.float32)\n",
    "\n",
    "                    batch_data[folder,idx,:,:] = image\n",
    "\n",
    "                batch_labels[folder, int(t[folder + (num_batches*batch_size)].strip().split(';')[2])] = 1\n",
    "\n",
    "            yield batch_data, batch_labels"
   ]
  },
  {
   "cell_type": "code",
   "execution_count": null,
   "metadata": {},
   "outputs": [],
   "source": [
    "C2d_model6 = Sequential([\n",
    "    Conv2D(16, (3,3),padding='same', input_shape=(tot_frames,ht,wd), activation='relu'),\n",
    "    MaxPooling2D(pool_size=(2,2)),\n",
    "    Conv2D(32, (3,3),padding='same', activation='relu'),\n",
    "    MaxPooling2D(pool_size=(2,2)),\n",
    "    Conv2D(64, (3,3),padding='same', activation='relu'),\n",
    "    MaxPooling2D(pool_size=(2,2)),\n",
    "    Flatten(),\n",
    "    Dense(64, activation='relu'),\n",
    "    Dense(5, activation='softmax')\n",
    "])"
   ]
  },
  {
   "cell_type": "code",
   "execution_count": null,
   "metadata": {},
   "outputs": [],
   "source": [
    "# COMPILE THE MODEL\n",
    "C2d_model6.compile(optimizer='adam',\n",
    "              loss = 'categorical_crossentropy',\n",
    "              metrics=['categorical_accuracy'])\n",
    "print(C2d_model6.summary())\n"
   ]
  },
  {
   "cell_type": "code",
   "execution_count": null,
   "metadata": {},
   "outputs": [],
   "source": [
    "# SETTING THE BATCH SIZE\n",
    "batch_size = 64"
   ]
  },
  {
   "cell_type": "code",
   "execution_count": null,
   "metadata": {},
   "outputs": [],
   "source": [
    "# Training set\n",
    "if (num_train_sequences%batch_size) == 0:\n",
    "    steps_per_epoch = int(num_train_sequences/batch_size)\n",
    "else:\n",
    "    steps_per_epoch = int(num_train_sequences//batch_size) + 1\n",
    "    \n",
    "# Validation set\n",
    "if (num_val_sequences%batch_size) == 0:\n",
    "    validation_steps = int(num_val_sequences/batch_size)\n",
    "else:\n",
    "    validation_steps = int(num_val_sequences//batch_size) + 1\n"
   ]
  },
  {
   "cell_type": "code",
   "execution_count": null,
   "metadata": {},
   "outputs": [],
   "source": [
    "# CREATING GENERATOR OBJECTS\n",
    "train_generator = generator_grayscale(train_path,train_doc,batch_size)\n",
    "val_generator = generator_grayscale(val_path,val_doc,batch_size)"
   ]
  },
  {
   "cell_type": "code",
   "execution_count": null,
   "metadata": {},
   "outputs": [],
   "source": [
    "# FITTING THE MODEL\n",
    "history = C2d_model6.fit(train_generator,\n",
    "          epochs=20,\n",
    "          callbacks=callbacks_list,\n",
    "          validation_data=val_generator, steps_per_epoch=steps_per_epoch,validation_steps=validation_steps)"
   ]
  },
  {
   "cell_type": "code",
   "execution_count": null,
   "metadata": {},
   "outputs": [],
   "source": [
    "# Plotting trainnig and validation accuracy\n",
    "acc = history.history['categorical_accuracy']\n",
    "val_acc = history.history['val_categorical_accuracy']\n",
    "\n",
    "loss = history.history['loss']\n",
    "val_loss = history.history['val_loss']\n",
    "\n",
    "epochs_range = range(20)\n",
    "\n",
    "plt.figure(figsize=(10,7))\n",
    "plt.subplot(1, 2, 1)\n",
    "plt.plot(epochs_range, acc, label='Training Accuracy')\n",
    "plt.plot(epochs_range, val_acc, label='Validation Accuracy')\n",
    "plt.legend(loc='lower right')\n",
    "plt.title('Training and Validation Accuracy')\n",
    "\n",
    "plt.subplot(1, 2, 2)\n",
    "plt.plot(epochs_range, loss, label='Training Loss')\n",
    "plt.plot(epochs_range, val_loss, label='Validation Loss')\n",
    "plt.legend(loc='upper right')\n",
    "plt.title('Training and Validation Loss')\n",
    "plt.show()"
   ]
  },
  {
   "cell_type": "code",
   "execution_count": null,
   "metadata": {},
   "outputs": [],
   "source": [
    "C2d_model6.save('model-6.h5')"
   ]
  },
  {
   "cell_type": "markdown",
   "metadata": {},
   "source": [
    "- The model is overfitting after 15 iterations\n",
    "- We will use Dropout to tackle overfitting\n",
    "- Also, will increase neurons in last hidden layer to push training accuracy furthur"
   ]
  },
  {
   "cell_type": "code",
   "execution_count": null,
   "metadata": {
    "scrolled": true
   },
   "outputs": [],
   "source": [
    "# Model\n",
    "C2d_model7 = Sequential([\n",
    "    Conv2D(16, (3,3),padding='same', input_shape=(tot_frames,ht,wd), activation='relu'),\n",
    "    MaxPooling2D(pool_size=(2,2)),\n",
    "    Conv2D(32, (3,3),padding='same', activation='relu'),\n",
    "    MaxPooling2D(pool_size=(2,2)),\n",
    "    Conv2D(64, (3,3),padding='same', activation='relu'),\n",
    "    MaxPooling2D(pool_size=(2,2)),\n",
    "    Flatten(),\n",
    "    Dense(128, activation='relu'),\n",
    "    Dropout(0.25),\n",
    "    Dense(5, activation='softmax')\n",
    "])\n"
   ]
  },
  {
   "cell_type": "code",
   "execution_count": null,
   "metadata": {},
   "outputs": [],
   "source": [
    "# Model compiling\n",
    "C2d_model7.compile(optimizer='adam',\n",
    "              loss = 'categorical_crossentropy',\n",
    "              metrics=['categorical_accuracy'])\n",
    "print(C2d_model7.summary())\n"
   ]
  },
  {
   "cell_type": "code",
   "execution_count": null,
   "metadata": {},
   "outputs": [],
   "source": [
    "# Batch size setting\n",
    "batch_size = 64"
   ]
  },
  {
   "cell_type": "code",
   "execution_count": null,
   "metadata": {},
   "outputs": [],
   "source": [
    "# Training set\n",
    "if (num_train_sequences%batch_size) == 0:\n",
    "    steps_per_epoch = int(num_train_sequences/batch_size)\n",
    "else:\n",
    "    steps_per_epoch = int(num_train_sequences//batch_size) + 1\n",
    "    \n",
    "# Validation set\n",
    "if (num_val_sequences%batch_size) == 0:\n",
    "    validation_steps = int(num_val_sequences/batch_size)\n",
    "else:\n",
    "    validation_steps = int(num_val_sequences//batch_size) + 1\n"
   ]
  },
  {
   "cell_type": "code",
   "execution_count": null,
   "metadata": {},
   "outputs": [],
   "source": [
    "# Generator object creating\n",
    "train_generator = generator_grayscale(train_path,train_doc,batch_size)\n",
    "val_generator = generator_grayscale(val_path,val_doc,batch_size)\n"
   ]
  },
  {
   "cell_type": "code",
   "execution_count": null,
   "metadata": {},
   "outputs": [],
   "source": [
    "# Moel fitting\n",
    "history = C2d_model7.fit(train_generator,\n",
    "          epochs=20,\n",
    "          callbacks=callbacks_list,\n",
    "          validation_data=val_generator, steps_per_epoch=steps_per_epoch,validation_steps=validation_steps)"
   ]
  },
  {
   "cell_type": "code",
   "execution_count": null,
   "metadata": {},
   "outputs": [],
   "source": [
    "# PLotting Tranning and validation accuracy\n",
    "acc = history.history['categorical_accuracy']\n",
    "val_acc = history.history['val_categorical_accuracy']\n",
    "\n",
    "loss = history.history['loss']\n",
    "val_loss = history.history['val_loss']\n",
    "\n",
    "epochs_range = range(20)\n",
    "\n",
    "plt.figure(figsize=(10,7))\n",
    "plt.subplot(1, 2, 1)\n",
    "plt.plot(epochs_range, acc, label='Training Accuracy')\n",
    "plt.plot(epochs_range, val_acc, label='Validation Accuracy')\n",
    "plt.legend(loc='lower right')\n",
    "plt.title('Training and Validation Accuracy')\n",
    "\n",
    "plt.subplot(1, 2, 2)\n",
    "plt.plot(epochs_range, loss, label='Training Loss')\n",
    "plt.plot(epochs_range, val_loss, label='Validation Loss')\n",
    "plt.legend(loc='upper right')\n",
    "plt.title('Training and Validation Loss')\n",
    "plt.show()"
   ]
  },
  {
   "cell_type": "code",
   "execution_count": null,
   "metadata": {},
   "outputs": [],
   "source": [
    "# Saving the model\n",
    "C2d_model7.save('model-7.h5')"
   ]
  },
  {
   "cell_type": "markdown",
   "metadata": {},
   "source": [
    "Model doesn't perform well as it results in lot of data"
   ]
  },
  {
   "cell_type": "markdown",
   "metadata": {},
   "source": [
    "## <center> CNN-RNN Architecture"
   ]
  },
  {
   "cell_type": "markdown",
   "metadata": {},
   "source": [
    "## We will use transfer learning "
   ]
  },
  {
   "cell_type": "markdown",
   "metadata": {},
   "source": [
    "#### we will use ResNet50  model due to it's lightweight architecture and high speed performance"
   ]
  },
  {
   "cell_type": "code",
   "execution_count": 11,
   "metadata": {},
   "outputs": [
    {
     "name": "stdout",
     "output_type": "stream",
     "text": [
      "Requirement already satisfied: tensorflow_hub in /mnt/disks/user/anaconda3/envs/cuda101/lib/python3.8/site-packages (0.12.0)\n",
      "Requirement already satisfied: protobuf>=3.8.0 in /mnt/disks/user/anaconda3/envs/cuda101/lib/python3.8/site-packages (from tensorflow_hub) (3.15.8)\n",
      "Requirement already satisfied: numpy>=1.12.0 in /mnt/disks/user/anaconda3/envs/cuda101/lib/python3.8/site-packages (from tensorflow_hub) (1.19.5)\n",
      "Requirement already satisfied: six>=1.9 in /mnt/disks/user/anaconda3/envs/cuda101/lib/python3.8/site-packages (from protobuf>=3.8.0->tensorflow_hub) (1.15.0)\n",
      "Note: you may need to restart the kernel to use updated packages.\n"
     ]
    }
   ],
   "source": [
    "pip install tensorflow_hub"
   ]
  },
  {
   "cell_type": "code",
   "execution_count": 12,
   "metadata": {},
   "outputs": [],
   "source": [
    "import tensorflow as tf\n",
    "import tensorflow_hub as hub\n",
    "from tensorflow.keras.models import Model\n",
    "from tensorflow.keras.layers import Dense, GRU, Dropout, Flatten, TimeDistributed, LSTM"
   ]
  },
  {
   "cell_type": "markdown",
   "metadata": {},
   "source": [
    "#### Importing mobileNet model"
   ]
  },
  {
   "cell_type": "code",
   "execution_count": 13,
   "metadata": {},
   "outputs": [],
   "source": [
    "from tensorflow.keras.applications import ResNet50 "
   ]
  },
  {
   "cell_type": "code",
   "execution_count": 14,
   "metadata": {},
   "outputs": [
    {
     "name": "stdout",
     "output_type": "stream",
     "text": [
      "Downloading data from https://storage.googleapis.com/tensorflow/keras-applications/resnet/resnet50_weights_tf_dim_ordering_tf_kernels_notop.h5\n",
      "94773248/94765736 [==============================] - 0s 0us/step\n"
     ]
    }
   ],
   "source": [
    "base_model = ResNet50(include_top=False, weights='imagenet',input_shape=(ht,wd,3))\n",
    "x = base_model.output\n",
    "x = Flatten()(x)\n",
    "features = Dense(64, activation='relu')(x)\n",
    "conv_model = Model(inputs=base_model.input, outputs=features)\n",
    "\n",
    "for layer in base_model.layers:\n",
    "    layer.trainable = False\n"
   ]
  },
  {
   "cell_type": "code",
   "execution_count": 15,
   "metadata": {},
   "outputs": [],
   "source": [
    "# pip install numpy==1.19.5"
   ]
  },
  {
   "cell_type": "code",
   "execution_count": 16,
   "metadata": {
    "scrolled": true
   },
   "outputs": [],
   "source": [
    "# CNN-RNN MODEL 1 with GRU\n",
    "cnn_rnn_model1 = Sequential([\n",
    "    TimeDistributed(conv_model, input_shape=(tot_frames,ht,wd,3)),\n",
    "    GRU(160, return_sequences=True),\n",
    "    GRU(320),\n",
    "    Dropout(0.5),\n",
    "    Dense(128, activation='relu'),\n",
    "    Dense(num_classes, activation='softmax')\n",
    "])\n"
   ]
  },
  {
   "cell_type": "code",
   "execution_count": 17,
   "metadata": {},
   "outputs": [
    {
     "name": "stdout",
     "output_type": "stream",
     "text": [
      "Model: \"sequential\"\n",
      "_________________________________________________________________\n",
      "Layer (type)                 Output Shape              Param #   \n",
      "=================================================================\n",
      "time_distributed (TimeDistri (None, 18, 64)            24767424  \n",
      "_________________________________________________________________\n",
      "gru (GRU)                    (None, 18, 160)           108480    \n",
      "_________________________________________________________________\n",
      "gru_1 (GRU)                  (None, 320)               462720    \n",
      "_________________________________________________________________\n",
      "dropout (Dropout)            (None, 320)               0         \n",
      "_________________________________________________________________\n",
      "dense_1 (Dense)              (None, 128)               41088     \n",
      "_________________________________________________________________\n",
      "dense_2 (Dense)              (None, 5)                 645       \n",
      "=================================================================\n",
      "Total params: 25,380,357\n",
      "Trainable params: 1,792,645\n",
      "Non-trainable params: 23,587,712\n",
      "_________________________________________________________________\n",
      "None\n"
     ]
    }
   ],
   "source": [
    "# COMPILING THE MODEL\n",
    "cnn_rnn_model1.compile(optimizer='adam',\n",
    "             loss='categorical_crossentropy',\n",
    "             metrics=['categorical_accuracy'])\n",
    "print(cnn_rnn_model1.summary())"
   ]
  },
  {
   "cell_type": "code",
   "execution_count": 18,
   "metadata": {},
   "outputs": [],
   "source": [
    "# Setting batch size\n",
    "batch_size = 64"
   ]
  },
  {
   "cell_type": "code",
   "execution_count": 19,
   "metadata": {},
   "outputs": [],
   "source": [
    "# Training set\n",
    "if (num_train_sequences%batch_size) == 0:\n",
    "    steps_per_epoch = int(num_train_sequences/batch_size)\n",
    "else:\n",
    "    steps_per_epoch = int(num_train_sequences//batch_size) + 1\n",
    "    \n",
    "# Validation set\n",
    "if (num_val_sequences%batch_size) == 0:\n",
    "    validation_steps = int(num_val_sequences/batch_size)\n",
    "else:\n",
    "    validation_steps = int(num_val_sequences//batch_size) + 1\n",
    "    "
   ]
  },
  {
   "cell_type": "code",
   "execution_count": 20,
   "metadata": {},
   "outputs": [],
   "source": [
    "train_generator = generator(train_path,train_doc,batch_size)\n",
    "val_generator = generator(val_path,val_doc,batch_size)\n"
   ]
  },
  {
   "cell_type": "code",
   "execution_count": 21,
   "metadata": {
    "scrolled": false
   },
   "outputs": [
    {
     "name": "stdout",
     "output_type": "stream",
     "text": [
      "Source path =  Project_data/train ; batch size = 64\n",
      "Epoch 1/15\n",
      "11/11 [==============================] - ETA: 0s - loss: 1.7144 - categorical_accuracy: 0.2100 Source path =  Project_data/val ; batch size = 64\n",
      "11/11 [==============================] - 227s 21s/step - loss: 1.7129 - categorical_accuracy: 0.2104 - val_loss: 1.5889 - val_categorical_accuracy: 0.3200\n",
      "Epoch 2/15\n",
      "11/11 [==============================] - 115s 11s/step - loss: 1.6521 - categorical_accuracy: 0.2150 - val_loss: 1.5605 - val_categorical_accuracy: 0.2100\n",
      "Epoch 3/15\n",
      "11/11 [==============================] - 130s 13s/step - loss: 1.5884 - categorical_accuracy: 0.2407 - val_loss: 1.4638 - val_categorical_accuracy: 0.3200\n",
      "Epoch 4/15\n",
      "11/11 [==============================] - 124s 12s/step - loss: 1.4780 - categorical_accuracy: 0.3300 - val_loss: 1.5012 - val_categorical_accuracy: 0.2700\n",
      "Epoch 5/15\n",
      "11/11 [==============================] - 123s 12s/step - loss: 1.4696 - categorical_accuracy: 0.3147 - val_loss: 1.4288 - val_categorical_accuracy: 0.3600\n",
      "Epoch 6/15\n",
      "11/11 [==============================] - 118s 12s/step - loss: 1.4641 - categorical_accuracy: 0.3606 - val_loss: 1.4159 - val_categorical_accuracy: 0.2500\n",
      "Epoch 7/15\n",
      "11/11 [==============================] - 128s 13s/step - loss: 1.4400 - categorical_accuracy: 0.3552 - val_loss: 1.4136 - val_categorical_accuracy: 0.3500\n",
      "Epoch 8/15\n",
      "11/11 [==============================] - 107s 11s/step - loss: 1.4112 - categorical_accuracy: 0.3605 - val_loss: 1.4643 - val_categorical_accuracy: 0.3000\n",
      "Epoch 9/15\n",
      "11/11 [==============================] - 127s 13s/step - loss: 1.3704 - categorical_accuracy: 0.4008 - val_loss: 1.3558 - val_categorical_accuracy: 0.4600\n",
      "Epoch 10/15\n",
      "11/11 [==============================] - 145s 14s/step - loss: 1.3340 - categorical_accuracy: 0.4214 - val_loss: 1.3280 - val_categorical_accuracy: 0.4400\n",
      "Epoch 11/15\n",
      "11/11 [==============================] - 133s 13s/step - loss: 1.3912 - categorical_accuracy: 0.4033 - val_loss: 1.5294 - val_categorical_accuracy: 0.3800\n",
      "Epoch 12/15\n",
      "11/11 [==============================] - 127s 13s/step - loss: 1.4780 - categorical_accuracy: 0.3809 - val_loss: 1.4509 - val_categorical_accuracy: 0.4600\n",
      "\n",
      "Epoch 00012: ReduceLROnPlateau reducing learning rate to 0.0005000000237487257.\n",
      "Epoch 13/15\n",
      "11/11 [==============================] - 137s 14s/step - loss: 1.4040 - categorical_accuracy: 0.3976 - val_loss: 1.3710 - val_categorical_accuracy: 0.3900\n",
      "Epoch 14/15\n",
      "11/11 [==============================] - 129s 13s/step - loss: 1.3319 - categorical_accuracy: 0.4201 - val_loss: 1.3188 - val_categorical_accuracy: 0.3900\n",
      "Epoch 15/15\n",
      "11/11 [==============================] - 131s 13s/step - loss: 1.2958 - categorical_accuracy: 0.4571 - val_loss: 1.3265 - val_categorical_accuracy: 0.4100\n"
     ]
    }
   ],
   "source": [
    "# Model Fitting\n",
    "history = cnn_rnn_model1.fit(train_generator,\n",
    "          epochs=15, # keeping 15 epochs for now\n",
    "          callbacks=callbacks_list,\n",
    "          validation_data=val_generator, steps_per_epoch=steps_per_epoch,validation_steps=validation_steps)"
   ]
  },
  {
   "cell_type": "code",
   "execution_count": 22,
   "metadata": {},
   "outputs": [
    {
     "data": {
      "image/png": "[encoded data removed]",
      "text/plain": [
       "<Figure size 720x504 with 2 Axes>"
      ]
     },
     "metadata": {
      "needs_background": "light"
     },
     "output_type": "display_data"
    }
   ],
   "source": [
    "# PLotting Tranning and validation accuracy\n",
    "acc = history.history['categorical_accuracy']\n",
    "val_acc = history.history['val_categorical_accuracy']\n",
    "\n",
    "loss = history.history['loss']\n",
    "val_loss = history.history['val_loss']\n",
    "\n",
    "epochs_range = range(15)\n",
    "\n",
    "plt.figure(figsize=(10,7))\n",
    "plt.subplot(1, 2, 1)\n",
    "plt.plot(epochs_range, acc, label='Training Accuracy')\n",
    "plt.plot(epochs_range, val_acc, label='Validation Accuracy')\n",
    "plt.legend(loc='lower right')\n",
    "plt.title('Training and Validation Accuracy')\n",
    "\n",
    "plt.subplot(1, 2, 2)\n",
    "plt.plot(epochs_range, loss, label='Training Loss')\n",
    "plt.plot(epochs_range, val_loss, label='Validation Loss')\n",
    "plt.legend(loc='upper right')\n",
    "plt.title('Training and Validation Loss')\n",
    "plt.show()"
   ]
  },
  {
   "cell_type": "code",
   "execution_count": 23,
   "metadata": {},
   "outputs": [],
   "source": [
    "cnn_rnn_model1.save('model-8.h5')"
   ]
  },
  {
   "cell_type": "raw",
   "metadata": {},
   "source": [
    "Here we can find  training and validation accuracy is not that much good enough so we will try with diffrent model"
   ]
  },
  {
   "cell_type": "markdown",
   "metadata": {},
   "source": [
    "## We are trying model by increasing last hidden layer neurons in pre-trained model which is ResNet50 with no of batches=64"
   ]
  },
  {
   "cell_type": "code",
   "execution_count": 24,
   "metadata": {},
   "outputs": [],
   "source": [
    "base_model = ResNet50(include_top=False, weights='imagenet',input_shape=(ht,wd,3))\n",
    "x = base_model.output\n",
    "x = Flatten()(x)\n",
    "features = Dense(128, activation='relu')(x)  # here we have changed neurons\n",
    "conv_model = Model(inputs=base_model.input, outputs=features)\n",
    "\n",
    "for layer in base_model.layers:\n",
    "    layer.trainable = False\n"
   ]
  },
  {
   "cell_type": "code",
   "execution_count": 25,
   "metadata": {},
   "outputs": [],
   "source": [
    "# CNN-RNN MODEL 1\n",
    "cnn_rnn_model2 = Sequential([\n",
    "    TimeDistributed(conv_model, input_shape=(tot_frames,ht,wd,3)),\n",
    "    GRU(160, return_sequences=True),\n",
    "    GRU(320),\n",
    "    Dropout(0.5),\n",
    "    Dense(128, activation='relu'),\n",
    "    Dense(num_classes, activation='softmax')\n",
    "])\n"
   ]
  },
  {
   "cell_type": "code",
   "execution_count": 26,
   "metadata": {},
   "outputs": [
    {
     "name": "stdout",
     "output_type": "stream",
     "text": [
      "Model: \"sequential_1\"\n",
      "_________________________________________________________________\n",
      "Layer (type)                 Output Shape              Param #   \n",
      "=================================================================\n",
      "time_distributed_1 (TimeDist (None, 18, 128)           25947136  \n",
      "_________________________________________________________________\n",
      "gru_2 (GRU)                  (None, 18, 160)           139200    \n",
      "_________________________________________________________________\n",
      "gru_3 (GRU)                  (None, 320)               462720    \n",
      "_________________________________________________________________\n",
      "dropout_1 (Dropout)          (None, 320)               0         \n",
      "_________________________________________________________________\n",
      "dense_4 (Dense)              (None, 128)               41088     \n",
      "_________________________________________________________________\n",
      "dense_5 (Dense)              (None, 5)                 645       \n",
      "=================================================================\n",
      "Total params: 26,590,789\n",
      "Trainable params: 3,003,077\n",
      "Non-trainable params: 23,587,712\n",
      "_________________________________________________________________\n",
      "None\n"
     ]
    }
   ],
   "source": [
    "# Model Compiling\n",
    "cnn_rnn_model2.compile(optimizer='adam',\n",
    "             loss='categorical_crossentropy',\n",
    "             metrics=['categorical_accuracy'])\n",
    "print(cnn_rnn_model2.summary())\n",
    "\n",
    "batch_size = 64\n"
   ]
  },
  {
   "cell_type": "code",
   "execution_count": 27,
   "metadata": {},
   "outputs": [],
   "source": [
    "# Training set\n",
    "if (num_train_sequences%batch_size) == 0:\n",
    "    steps_per_epoch = int(num_train_sequences/batch_size)\n",
    "else:\n",
    "    steps_per_epoch = int(num_train_sequences//batch_size) + 1\n",
    "    \n",
    "# Validation set\n",
    "if (num_val_sequences%batch_size) == 0:\n",
    "    validation_steps = int(num_val_sequences/batch_size)\n",
    "else:\n",
    "    validation_steps = int(num_val_sequences//batch_size) + 1"
   ]
  },
  {
   "cell_type": "code",
   "execution_count": 28,
   "metadata": {},
   "outputs": [],
   "source": [
    "train_generator = generator(train_path,train_doc,batch_size)\n",
    "val_generator = generator(val_path,val_doc,batch_size)\n"
   ]
  },
  {
   "cell_type": "code",
   "execution_count": 29,
   "metadata": {},
   "outputs": [
    {
     "name": "stdout",
     "output_type": "stream",
     "text": [
      "Source path =  Project_data/train ; batch size = 64\n",
      "Epoch 1/15\n",
      "11/11 [==============================] - ETA: 0s - loss: 1.6726 - categorical_accuracy: 0.2194Source path =  Project_data/val ; batch size = 64\n",
      "11/11 [==============================] - 123s 12s/step - loss: 1.6734 - categorical_accuracy: 0.2214 - val_loss: 1.6675 - val_categorical_accuracy: 0.2900\n",
      "Epoch 2/15\n",
      "11/11 [==============================] - 147s 15s/step - loss: 1.7105 - categorical_accuracy: 0.2086 - val_loss: 1.5740 - val_categorical_accuracy: 0.2300\n",
      "Epoch 3/15\n",
      "11/11 [==============================] - 134s 13s/step - loss: 1.5847 - categorical_accuracy: 0.2813 - val_loss: 1.4227 - val_categorical_accuracy: 0.4300\n",
      "Epoch 4/15\n",
      "11/11 [==============================] - 145s 14s/step - loss: 1.5102 - categorical_accuracy: 0.2980 - val_loss: 1.3837 - val_categorical_accuracy: 0.4300\n",
      "Epoch 5/15\n",
      "11/11 [==============================] - 129s 13s/step - loss: 1.4997 - categorical_accuracy: 0.3650 - val_loss: 1.5064 - val_categorical_accuracy: 0.2700\n",
      "Epoch 6/15\n",
      "11/11 [==============================] - 120s 12s/step - loss: 1.4960 - categorical_accuracy: 0.2946 - val_loss: 1.5416 - val_categorical_accuracy: 0.3700\n",
      "\n",
      "Epoch 00006: ReduceLROnPlateau reducing learning rate to 0.0005000000237487257.\n",
      "Epoch 7/15\n",
      "11/11 [==============================] - 121s 12s/step - loss: 1.4737 - categorical_accuracy: 0.3640 - val_loss: 1.3855 - val_categorical_accuracy: 0.4300\n",
      "Epoch 8/15\n",
      "11/11 [==============================] - 127s 13s/step - loss: 1.4292 - categorical_accuracy: 0.3529 - val_loss: 1.3733 - val_categorical_accuracy: 0.3900\n",
      "Epoch 9/15\n",
      "11/11 [==============================] - 138s 14s/step - loss: 1.3850 - categorical_accuracy: 0.3972 - val_loss: 1.4043 - val_categorical_accuracy: 0.3500\n",
      "Epoch 10/15\n",
      "11/11 [==============================] - 138s 14s/step - loss: 1.3910 - categorical_accuracy: 0.3792 - val_loss: 1.3582 - val_categorical_accuracy: 0.4000\n",
      "Epoch 11/15\n",
      "11/11 [==============================] - 118s 12s/step - loss: 1.3500 - categorical_accuracy: 0.4053 - val_loss: 1.4076 - val_categorical_accuracy: 0.3300\n",
      "Epoch 12/15\n",
      "11/11 [==============================] - 117s 12s/step - loss: 1.4095 - categorical_accuracy: 0.3811 - val_loss: 1.3632 - val_categorical_accuracy: 0.3700\n",
      "\n",
      "Epoch 00012: ReduceLROnPlateau reducing learning rate to 0.0002500000118743628.\n",
      "Epoch 13/15\n",
      "11/11 [==============================] - 127s 13s/step - loss: 1.3952 - categorical_accuracy: 0.3551 - val_loss: 1.3439 - val_categorical_accuracy: 0.4400\n",
      "Epoch 14/15\n",
      "11/11 [==============================] - 133s 13s/step - loss: 1.3434 - categorical_accuracy: 0.3783 - val_loss: 1.4028 - val_categorical_accuracy: 0.4000\n",
      "Epoch 15/15\n",
      "11/11 [==============================] - 125s 12s/step - loss: 1.3341 - categorical_accuracy: 0.4348 - val_loss: 1.3529 - val_categorical_accuracy: 0.4200\n",
      "\n",
      "Epoch 00015: ReduceLROnPlateau reducing learning rate to 0.0001250000059371814.\n"
     ]
    }
   ],
   "source": [
    "# Model fitting\n",
    "history = cnn_rnn_model2.fit(train_generator,\n",
    "          epochs=15,\n",
    "          callbacks=callbacks_list,\n",
    "          validation_data=val_generator, steps_per_epoch=steps_per_epoch,validation_steps=validation_steps)"
   ]
  },
  {
   "cell_type": "code",
   "execution_count": 30,
   "metadata": {},
   "outputs": [
    {
     "data": {
      "image/png": "[encoded data removed]",
      "text/plain": [
       "<Figure size 720x504 with 2 Axes>"
      ]
     },
     "metadata": {
      "needs_background": "light"
     },
     "output_type": "display_data"
    }
   ],
   "source": [
    "# PLotting Tranning and validation accuracy\n",
    "acc = history.history['categorical_accuracy']\n",
    "val_acc = history.history['val_categorical_accuracy']\n",
    "\n",
    "loss = history.history['loss']\n",
    "val_loss = history.history['val_loss']\n",
    "\n",
    "epochs_range = range(15)\n",
    "\n",
    "plt.figure(figsize=(10,7))\n",
    "plt.subplot(1, 2, 1)\n",
    "plt.plot(epochs_range, acc, label='Training Accuracy')\n",
    "plt.plot(epochs_range, val_acc, label='Validation Accuracy')\n",
    "plt.legend(loc='lower right')\n",
    "plt.title('Training and Validation Accuracy')\n",
    "\n",
    "plt.subplot(1, 2, 2)\n",
    "plt.plot(epochs_range, loss, label='Training Loss')\n",
    "plt.plot(epochs_range, val_loss, label='Validation Loss')\n",
    "plt.legend(loc='upper right')\n",
    "plt.title('Training and Validation Loss')\n",
    "plt.show()"
   ]
  },
  {
   "cell_type": "code",
   "execution_count": 31,
   "metadata": {},
   "outputs": [],
   "source": [
    "cnn_rnn_model2.save('model-9.h5')"
   ]
  },
  {
   "cell_type": "markdown",
   "metadata": {},
   "source": [
    "### Insights of this model\n",
    "- Here we observed that no changs in the model\n",
    "- We will try with MobileNet transfer learning\n"
   ]
  },
  {
   "cell_type": "code",
   "execution_count": 32,
   "metadata": {},
   "outputs": [],
   "source": [
    "# Lets import import mobilenet"
   ]
  },
  {
   "cell_type": "code",
   "execution_count": 33,
   "metadata": {},
   "outputs": [],
   "source": [
    "from tensorflow.keras.applications import mobilenet"
   ]
  },
  {
   "cell_type": "code",
   "execution_count": 34,
   "metadata": {},
   "outputs": [
    {
     "name": "stdout",
     "output_type": "stream",
     "text": [
      "WARNING:tensorflow:`input_shape` is undefined or non-square, or `rows` is not in [128, 160, 192, 224]. Weights for input shape (224, 224) will be loaded as the default.\n",
      "Downloading data from https://storage.googleapis.com/tensorflow/keras-applications/mobilenet/mobilenet_1_0_224_tf_no_top.h5\n",
      "17227776/17225924 [==============================] - 1s 0us/step\n",
      "Model: \"sequential_2\"\n",
      "_________________________________________________________________\n",
      "Layer (type)                 Output Shape              Param #   \n",
      "=================================================================\n",
      "time_distributed_2 (TimeDist (None, 18, 64)            3491072   \n",
      "_________________________________________________________________\n",
      "gru_4 (GRU)                  (None, 18, 160)           108480    \n",
      "_________________________________________________________________\n",
      "gru_5 (GRU)                  (None, 320)               462720    \n",
      "_________________________________________________________________\n",
      "dropout_2 (Dropout)          (None, 320)               0         \n",
      "_________________________________________________________________\n",
      "dense_7 (Dense)              (None, 128)               41088     \n",
      "_________________________________________________________________\n",
      "dense_8 (Dense)              (None, 5)                 645       \n",
      "=================================================================\n",
      "Total params: 4,104,005\n",
      "Trainable params: 875,141\n",
      "Non-trainable params: 3,228,864\n",
      "_________________________________________________________________\n",
      "None\n",
      "Source path =  Project_data/train ; batch size = 20\n",
      "Epoch 1/20\n",
      "34/34 [==============================] - ETA: 0s - loss: 1.6259 - categorical_accuracy: 0.2887Source path =  Project_data/val ; batch size = 20\n",
      "34/34 [==============================] - 151s 4s/step - loss: 1.6216 - categorical_accuracy: 0.2911 - val_loss: 0.9933 - val_categorical_accuracy: 0.6200\n",
      "Epoch 2/20\n",
      "34/34 [==============================] - 85s 3s/step - loss: 0.8929 - categorical_accuracy: 0.6246 - val_loss: 1.1324 - val_categorical_accuracy: 0.5300\n",
      "Epoch 3/20\n",
      "34/34 [==============================] - 86s 3s/step - loss: 0.6439 - categorical_accuracy: 0.7311 - val_loss: 0.8485 - val_categorical_accuracy: 0.6300\n",
      "Epoch 4/20\n",
      "34/34 [==============================] - 85s 3s/step - loss: 0.3213 - categorical_accuracy: 0.8727 - val_loss: 1.3729 - val_categorical_accuracy: 0.5900\n",
      "Epoch 5/20\n",
      "34/34 [==============================] - 84s 3s/step - loss: 0.1907 - categorical_accuracy: 0.9420 - val_loss: 1.0865 - val_categorical_accuracy: 0.6700\n",
      "\n",
      "Epoch 00005: ReduceLROnPlateau reducing learning rate to 0.0005000000237487257.\n",
      "Epoch 6/20\n",
      "34/34 [==============================] - 98s 3s/step - loss: 0.0371 - categorical_accuracy: 0.9891 - val_loss: 1.3234 - val_categorical_accuracy: 0.7000\n",
      "Epoch 7/20\n",
      "34/34 [==============================] - 105s 3s/step - loss: 0.0267 - categorical_accuracy: 0.9895 - val_loss: 1.4422 - val_categorical_accuracy: 0.6800\n",
      "\n",
      "Epoch 00007: ReduceLROnPlateau reducing learning rate to 0.0002500000118743628.\n",
      "Epoch 8/20\n",
      "34/34 [==============================] - 88s 3s/step - loss: 0.0046 - categorical_accuracy: 1.0000 - val_loss: 1.3266 - val_categorical_accuracy: 0.7300\n",
      "Epoch 9/20\n",
      "34/34 [==============================] - 86s 3s/step - loss: 0.0039 - categorical_accuracy: 1.0000 - val_loss: 1.5872 - val_categorical_accuracy: 0.6900\n",
      "\n",
      "Epoch 00009: ReduceLROnPlateau reducing learning rate to 0.0001250000059371814.\n",
      "Epoch 10/20\n",
      "34/34 [==============================] - 99s 3s/step - loss: 0.0031 - categorical_accuracy: 1.0000 - val_loss: 1.3260 - val_categorical_accuracy: 0.6900\n",
      "Epoch 11/20\n",
      "34/34 [==============================] - 160s 5s/step - loss: 0.0027 - categorical_accuracy: 1.0000 - val_loss: 1.3976 - val_categorical_accuracy: 0.7100\n",
      "\n",
      "Epoch 00011: ReduceLROnPlateau reducing learning rate to 6.25000029685907e-05.\n",
      "Epoch 12/20\n",
      "34/34 [==============================] - 157s 5s/step - loss: 0.0023 - categorical_accuracy: 1.0000 - val_loss: 1.3966 - val_categorical_accuracy: 0.6900\n",
      "Epoch 13/20\n",
      "34/34 [==============================] - 160s 5s/step - loss: 0.0021 - categorical_accuracy: 1.0000 - val_loss: 1.7566 - val_categorical_accuracy: 0.6800\n",
      "\n",
      "Epoch 00013: ReduceLROnPlateau reducing learning rate to 3.125000148429535e-05.\n",
      "Epoch 14/20\n",
      "34/34 [==============================] - 155s 5s/step - loss: 0.0024 - categorical_accuracy: 1.0000 - val_loss: 1.1180 - val_categorical_accuracy: 0.7300\n",
      "Epoch 15/20\n",
      "34/34 [==============================] - 159s 5s/step - loss: 0.0022 - categorical_accuracy: 1.0000 - val_loss: 1.5830 - val_categorical_accuracy: 0.6800\n",
      "\n",
      "Epoch 00015: ReduceLROnPlateau reducing learning rate to 1.5625000742147677e-05.\n",
      "Epoch 16/20\n",
      "34/34 [==============================] - 158s 5s/step - loss: 0.0020 - categorical_accuracy: 1.0000 - val_loss: 1.4167 - val_categorical_accuracy: 0.7100\n",
      "Epoch 17/20\n",
      "34/34 [==============================] - 158s 5s/step - loss: 0.0026 - categorical_accuracy: 1.0000 - val_loss: 1.6315 - val_categorical_accuracy: 0.7000\n",
      "\n",
      "Epoch 00017: ReduceLROnPlateau reducing learning rate to 1e-05.\n",
      "Epoch 18/20\n",
      "34/34 [==============================] - 158s 5s/step - loss: 0.0018 - categorical_accuracy: 1.0000 - val_loss: 1.4179 - val_categorical_accuracy: 0.6900\n",
      "Epoch 19/20\n",
      "34/34 [==============================] - 157s 5s/step - loss: 0.0020 - categorical_accuracy: 1.0000 - val_loss: 1.3880 - val_categorical_accuracy: 0.7300\n",
      "Epoch 20/20\n",
      "34/34 [==============================] - 156s 5s/step - loss: 0.0019 - categorical_accuracy: 1.0000 - val_loss: 1.5562 - val_categorical_accuracy: 0.6900\n"
     ]
    }
   ],
   "source": [
    "base_model = mobilenet.MobileNet(include_top=False, weights='imagenet',input_shape=(ht,wd,3))\n",
    "x = base_model.output\n",
    "x = Flatten()(x)\n",
    "features = Dense(64, activation='relu')(x)\n",
    "conv_model = Model(inputs=base_model.input, outputs=features)\n",
    "\n",
    "for layer in base_model.layers:\n",
    "    layer.trainable = False\n",
    "\n",
    "# CNN-RNN MODEL 3\n",
    "cnn_rnn_m3 = Sequential([\n",
    "    TimeDistributed(conv_model, input_shape=(tot_frames,ht,wd,3)),\n",
    "    GRU(160, return_sequences=True),\n",
    "    GRU(320),\n",
    "    Dropout(0.25),\n",
    "    Dense(128, activation='relu'),\n",
    "    Dense(num_classes, activation='softmax')\n",
    "])\n",
    "\n",
    "# COMPILING THE MODEL\n",
    "cnn_rnn_m3.compile(optimizer='adam',\n",
    "             loss='categorical_crossentropy',\n",
    "             metrics=['categorical_accuracy'])\n",
    "print(cnn_rnn_m3.summary())\n",
    "\n",
    "batch_size = 20\n",
    "# Training set\n",
    "if (num_train_sequences%batch_size) == 0:\n",
    "    steps_per_epoch = int(num_train_sequences/batch_size)\n",
    "else:\n",
    "    steps_per_epoch = int(num_train_sequences//batch_size) + 1\n",
    "    \n",
    "# Validation set\n",
    "if (num_val_sequences%batch_size) == 0:\n",
    "    validation_steps = int(num_val_sequences/batch_size)\n",
    "else:\n",
    "    validation_steps = int(num_val_sequences//batch_size) + 1\n",
    "\n",
    "train_generator = generator(train_path,train_doc,batch_size)\n",
    "val_generator = generator(val_path,val_doc,batch_size)\n",
    "\n",
    "# FITTING THE MODEL\n",
    "history = cnn_rnn_m3.fit(train_generator,\n",
    "          epochs=20,\n",
    "          callbacks=callbacks_list,\n",
    "          validation_data=val_generator, steps_per_epoch=steps_per_epoch,validation_steps=validation_steps)"
   ]
  },
  {
   "cell_type": "code",
   "execution_count": 35,
   "metadata": {},
   "outputs": [
    {
     "data": {
      "image/png": "[encoded data removed]",
      "text/plain": [
       "<Figure size 720x504 with 2 Axes>"
      ]
     },
     "metadata": {
      "needs_background": "light"
     },
     "output_type": "display_data"
    }
   ],
   "source": [
    "# PLotting Tranning and validation accuracy\n",
    "acc = history.history['categorical_accuracy']\n",
    "val_acc = history.history['val_categorical_accuracy']\n",
    "\n",
    "loss = history.history['loss']\n",
    "val_loss = history.history['val_loss']\n",
    "\n",
    "epochs_range = range(20)\n",
    "\n",
    "plt.figure(figsize=(10,7))\n",
    "plt.subplot(1, 2, 1)\n",
    "plt.plot(epochs_range, acc, label='Training Accuracy')\n",
    "plt.plot(epochs_range, val_acc, label='Validation Accuracy')\n",
    "plt.legend(loc='lower right')\n",
    "plt.title('Training and Validation Accuracy')\n",
    "\n",
    "plt.subplot(1, 2, 2)\n",
    "plt.plot(epochs_range, loss, label='Training Loss')\n",
    "plt.plot(epochs_range, val_loss, label='Validation Loss')\n",
    "plt.legend(loc='upper right')\n",
    "plt.title('Training and Validation Loss')\n",
    "plt.show()"
   ]
  },
  {
   "cell_type": "code",
   "execution_count": 36,
   "metadata": {},
   "outputs": [],
   "source": [
    "cnn_rnn_m3.save('model-10.h5')"
   ]
  },
  {
   "cell_type": "raw",
   "metadata": {},
   "source": [
    "Model is overfitting"
   ]
  },
  {
   "cell_type": "markdown",
   "metadata": {},
   "source": [
    "### Trying the same model with LSTM"
   ]
  },
  {
   "cell_type": "code",
   "execution_count": 37,
   "metadata": {},
   "outputs": [
    {
     "name": "stdout",
     "output_type": "stream",
     "text": [
      "WARNING:tensorflow:`input_shape` is undefined or non-square, or `rows` is not in [128, 160, 192, 224]. Weights for input shape (224, 224) will be loaded as the default.\n",
      "Model: \"sequential_3\"\n",
      "_________________________________________________________________\n",
      "Layer (type)                 Output Shape              Param #   \n",
      "=================================================================\n",
      "time_distributed_3 (TimeDist (None, 18, 64)            3491072   \n",
      "_________________________________________________________________\n",
      "lstm (LSTM)                  (None, 18, 160)           144000    \n",
      "_________________________________________________________________\n",
      "lstm_1 (LSTM)                (None, 320)               615680    \n",
      "_________________________________________________________________\n",
      "dropout_3 (Dropout)          (None, 320)               0         \n",
      "_________________________________________________________________\n",
      "dense_10 (Dense)             (None, 128)               41088     \n",
      "_________________________________________________________________\n",
      "dense_11 (Dense)             (None, 5)                 645       \n",
      "=================================================================\n",
      "Total params: 4,292,485\n",
      "Trainable params: 1,063,621\n",
      "Non-trainable params: 3,228,864\n",
      "_________________________________________________________________\n",
      "None\n",
      "Source path =  Project_data/train ; batch size = 64\n",
      "Epoch 1/12\n",
      "11/11 [==============================] - ETA: 0s - loss: 1.5810 - categorical_accuracy: 0.2420Source path =  Project_data/val ; batch size = 64\n",
      "11/11 [==============================] - 138s 13s/step - loss: 1.5762 - categorical_accuracy: 0.2477 - val_loss: 1.2863 - val_categorical_accuracy: 0.4500\n",
      "Epoch 2/12\n",
      "11/11 [==============================] - 102s 10s/step - loss: 1.2006 - categorical_accuracy: 0.5237 - val_loss: 0.9966 - val_categorical_accuracy: 0.6200\n",
      "Epoch 3/12\n",
      "11/11 [==============================] - 130s 13s/step - loss: 0.8288 - categorical_accuracy: 0.6718 - val_loss: 0.8311 - val_categorical_accuracy: 0.6600\n",
      "Epoch 4/12\n",
      "11/11 [==============================] - 117s 12s/step - loss: 0.5505 - categorical_accuracy: 0.8205 - val_loss: 0.7490 - val_categorical_accuracy: 0.7300\n",
      "Epoch 5/12\n",
      "11/11 [==============================] - 120s 12s/step - loss: 0.4316 - categorical_accuracy: 0.8427 - val_loss: 0.8761 - val_categorical_accuracy: 0.7000\n",
      "Epoch 6/12\n",
      "11/11 [==============================] - 123s 12s/step - loss: 0.3471 - categorical_accuracy: 0.8780 - val_loss: 0.7879 - val_categorical_accuracy: 0.7100\n",
      "\n",
      "Epoch 00006: ReduceLROnPlateau reducing learning rate to 0.0005000000237487257.\n",
      "Epoch 7/12\n",
      "11/11 [==============================] - 138s 14s/step - loss: 0.1970 - categorical_accuracy: 0.9380 - val_loss: 0.9575 - val_categorical_accuracy: 0.6700\n",
      "Epoch 8/12\n",
      "11/11 [==============================] - 131s 13s/step - loss: 0.1022 - categorical_accuracy: 0.9667 - val_loss: 0.7794 - val_categorical_accuracy: 0.7900\n",
      "\n",
      "Epoch 00008: ReduceLROnPlateau reducing learning rate to 0.0002500000118743628.\n",
      "Epoch 9/12\n",
      "11/11 [==============================] - 154s 15s/step - loss: 0.0645 - categorical_accuracy: 0.9813 - val_loss: 1.1043 - val_categorical_accuracy: 0.7300\n",
      "Epoch 10/12\n",
      "11/11 [==============================] - 120s 12s/step - loss: 0.0278 - categorical_accuracy: 0.9968 - val_loss: 1.3016 - val_categorical_accuracy: 0.7300\n",
      "\n",
      "Epoch 00010: ReduceLROnPlateau reducing learning rate to 0.0001250000059371814.\n",
      "Epoch 11/12\n",
      "11/11 [==============================] - 121s 12s/step - loss: 0.0191 - categorical_accuracy: 0.9992 - val_loss: 1.1306 - val_categorical_accuracy: 0.7700\n",
      "Epoch 12/12\n",
      "11/11 [==============================] - 137s 14s/step - loss: 0.0165 - categorical_accuracy: 0.9962 - val_loss: 1.1155 - val_categorical_accuracy: 0.7800\n",
      "\n",
      "Epoch 00012: ReduceLROnPlateau reducing learning rate to 6.25000029685907e-05.\n"
     ]
    }
   ],
   "source": [
    "base_model = mobilenet.MobileNet(include_top=False, weights='imagenet',input_shape=(ht,wd,3))\n",
    "x = base_model.output\n",
    "x = Flatten()(x)\n",
    "features = Dense(64, activation='relu')(x)\n",
    "conv_model = Model(inputs=base_model.input, outputs=features)\n",
    "\n",
    "for layer in base_model.layers:\n",
    "    layer.trainable = False\n",
    "\n",
    "# CNN-RNN MODEL 3\n",
    "cnn_rnn_m4 = Sequential([\n",
    "    TimeDistributed(conv_model, input_shape=(tot_frames,ht,wd,3)),\n",
    "    LSTM(160, return_sequences=True),\n",
    "    LSTM(320),\n",
    "    Dropout(0.5),\n",
    "    Dense(128, activation='relu'),\n",
    "    Dense(num_classes, activation='softmax')\n",
    "])\n",
    "\n",
    "# COMPILING THE MODEL\n",
    "cnn_rnn_m4.compile(optimizer='adam',\n",
    "             loss='categorical_crossentropy',\n",
    "             metrics=['categorical_accuracy'])\n",
    "print(cnn_rnn_m4.summary())\n",
    "\n",
    "batch_size = 64\n",
    "# Training set\n",
    "if (num_train_sequences%batch_size) == 0:\n",
    "    steps_per_epoch = int(num_train_sequences/batch_size)\n",
    "else:\n",
    "    steps_per_epoch = int(num_train_sequences//batch_size) + 1\n",
    "    \n",
    "# Validation set\n",
    "if (num_val_sequences%batch_size) == 0:\n",
    "    validation_steps = int(num_val_sequences/batch_size)\n",
    "else:\n",
    "    validation_steps = int(num_val_sequences//batch_size) + 1\n",
    "\n",
    "train_generator = generator(train_path,train_doc,batch_size)\n",
    "val_generator = generator(val_path,val_doc,batch_size)\n",
    "\n",
    "# FITTING THE MODEL\n",
    "history = cnn_rnn_m4.fit(train_generator,\n",
    "          epochs=12,\n",
    "          callbacks=callbacks_list,\n",
    "          validation_data=val_generator, steps_per_epoch=steps_per_epoch,validation_steps=validation_steps)"
   ]
  },
  {
   "cell_type": "code",
   "execution_count": 38,
   "metadata": {},
   "outputs": [
    {
     "data": {
      "image/png": "[encoded data removed]",
      "text/plain": [
       "<Figure size 720x504 with 2 Axes>"
      ]
     },
     "metadata": {
      "needs_background": "light"
     },
     "output_type": "display_data"
    }
   ],
   "source": [
    "# PLotting Tranning and validation accuracy\n",
    "acc = history.history['categorical_accuracy']\n",
    "val_acc = history.history['val_categorical_accuracy']\n",
    "\n",
    "loss = history.history['loss']\n",
    "val_loss = history.history['val_loss']\n",
    "\n",
    "epochs_range = range(12)\n",
    "\n",
    "plt.figure(figsize=(10,7))\n",
    "plt.subplot(1, 2, 1)\n",
    "plt.plot(epochs_range, acc, label='Training Accuracy')\n",
    "plt.plot(epochs_range, val_acc, label='Validation Accuracy')\n",
    "plt.legend(loc='lower right')\n",
    "plt.title('Training and Validation Accuracy')\n",
    "\n",
    "plt.subplot(1, 2, 2)\n",
    "plt.plot(epochs_range, loss, label='Training Loss')\n",
    "plt.plot(epochs_range, val_loss, label='Validation Loss')\n",
    "plt.legend(loc='upper right')\n",
    "plt.title('Training and Validation Loss')\n",
    "plt.show()"
   ]
  },
  {
   "cell_type": "code",
   "execution_count": 39,
   "metadata": {},
   "outputs": [],
   "source": [
    "cnn_rnn_m4.save('model-11.h5')"
   ]
  },
  {
   "cell_type": "markdown",
   "metadata": {},
   "source": [
    "#### Model is also overfitting so we will try with ResNet50V2 which is advanced version of ResNet50"
   ]
  },
  {
   "cell_type": "code",
   "execution_count": 14,
   "metadata": {},
   "outputs": [],
   "source": [
    "from tensorflow.keras.applications import ResNet50V2"
   ]
  },
  {
   "cell_type": "code",
   "execution_count": 15,
   "metadata": {},
   "outputs": [],
   "source": [
    "base_model = ResNet50V2(include_top=False, weights='imagenet',input_shape=(ht,wd,3))\n",
    "x = base_model.output\n",
    "x = Flatten()(x)\n",
    "features = Dense(64, activation='relu')(x)\n",
    "conv_model = Model(inputs=base_model.input, outputs=features)\n",
    "\n",
    "for layer in base_model.layers:\n",
    "    layer.trainable = False\n",
    "\n"
   ]
  },
  {
   "cell_type": "code",
   "execution_count": 16,
   "metadata": {},
   "outputs": [],
   "source": [
    "# CNN-RNN MODEL 3\n",
    "cnn_rnn_model5 = Sequential([\n",
    "    TimeDistributed(conv_model, input_shape=(tot_frames,ht,wd,3)),\n",
    "    GRU(160, return_sequences=True),\n",
    "    GRU(320),\n",
    "    Dropout(0.5),\n",
    "    Dense(128, activation='relu'),\n",
    "    Dense(num_classes, activation='softmax')\n",
    "])\n",
    "\n"
   ]
  },
  {
   "cell_type": "code",
   "execution_count": 17,
   "metadata": {},
   "outputs": [
    {
     "name": "stdout",
     "output_type": "stream",
     "text": [
      "Model: \"sequential\"\n",
      "_________________________________________________________________\n",
      "Layer (type)                 Output Shape              Param #   \n",
      "=================================================================\n",
      "time_distributed (TimeDistri (None, 18, 64)            24744512  \n",
      "_________________________________________________________________\n",
      "gru (GRU)                    (None, 18, 160)           108480    \n",
      "_________________________________________________________________\n",
      "gru_1 (GRU)                  (None, 320)               462720    \n",
      "_________________________________________________________________\n",
      "dropout (Dropout)            (None, 320)               0         \n",
      "_________________________________________________________________\n",
      "dense_1 (Dense)              (None, 128)               41088     \n",
      "_________________________________________________________________\n",
      "dense_2 (Dense)              (None, 5)                 645       \n",
      "=================================================================\n",
      "Total params: 25,357,445\n",
      "Trainable params: 1,792,645\n",
      "Non-trainable params: 23,564,800\n",
      "_________________________________________________________________\n",
      "None\n"
     ]
    }
   ],
   "source": [
    "# COMPILING THE MODEL\n",
    "cnn_rnn_model5.compile(optimizer='adam',\n",
    "             loss='categorical_crossentropy',\n",
    "             metrics=['categorical_accuracy'])\n",
    "print(cnn_rnn_model5.summary())\n",
    "\n",
    "batch_size = 64\n"
   ]
  },
  {
   "cell_type": "code",
   "execution_count": 18,
   "metadata": {},
   "outputs": [],
   "source": [
    "# Training set\n",
    "if (num_train_sequences%batch_size) == 0:\n",
    "    steps_per_epoch = int(num_train_sequences/batch_size)\n",
    "else:\n",
    "    steps_per_epoch = int(num_train_sequences//batch_size) + 1\n",
    "    \n",
    "# Validation set\n",
    "if (num_val_sequences%batch_size) == 0:\n",
    "    validation_steps = int(num_val_sequences/batch_size)\n",
    "else:\n",
    "    validation_steps = int(num_val_sequences//batch_size) + 1\n"
   ]
  },
  {
   "cell_type": "code",
   "execution_count": 19,
   "metadata": {},
   "outputs": [],
   "source": [
    "train_generator = generator(train_path,train_doc,batch_size)\n",
    "val_generator = generator(val_path,val_doc,batch_size)\n"
   ]
  },
  {
   "cell_type": "code",
   "execution_count": 20,
   "metadata": {},
   "outputs": [
    {
     "name": "stdout",
     "output_type": "stream",
     "text": [
      "Source path =  Project_data/train ; batch size = 64\n",
      "Epoch 1/10\n",
      "11/11 [==============================] - ETA: 0s - loss: 1.5532 - categorical_accuracy: 0.3224 Source path =  Project_data/val ; batch size = 64\n",
      "11/11 [==============================] - 219s 20s/step - loss: 1.5451 - categorical_accuracy: 0.3265 - val_loss: 1.0716 - val_categorical_accuracy: 0.5300\n",
      "Epoch 2/10\n",
      "11/11 [==============================] - 130s 13s/step - loss: 0.8962 - categorical_accuracy: 0.6322 - val_loss: 1.0762 - val_categorical_accuracy: 0.5700\n",
      "Epoch 3/10\n",
      "11/11 [==============================] - 103s 10s/step - loss: 0.5470 - categorical_accuracy: 0.7816 - val_loss: 0.9117 - val_categorical_accuracy: 0.6600\n",
      "Epoch 4/10\n",
      "11/11 [==============================] - 97s 10s/step - loss: 0.2335 - categorical_accuracy: 0.9073 - val_loss: 1.0222 - val_categorical_accuracy: 0.6600\n",
      "Epoch 5/10\n",
      "11/11 [==============================] - 120s 12s/step - loss: 0.1100 - categorical_accuracy: 0.9697 - val_loss: 1.1985 - val_categorical_accuracy: 0.6400\n",
      "\n",
      "Epoch 00005: ReduceLROnPlateau reducing learning rate to 0.0005000000237487257.\n",
      "Epoch 6/10\n",
      "11/11 [==============================] - 101s 10s/step - loss: 0.0655 - categorical_accuracy: 0.9708 - val_loss: 1.1352 - val_categorical_accuracy: 0.7000\n",
      "Epoch 7/10\n",
      "11/11 [==============================] - 139s 14s/step - loss: 0.0200 - categorical_accuracy: 0.9949 - val_loss: 1.1584 - val_categorical_accuracy: 0.6900\n",
      "\n",
      "Epoch 00007: ReduceLROnPlateau reducing learning rate to 0.0002500000118743628.\n",
      "Epoch 8/10\n",
      "11/11 [==============================] - 144s 14s/step - loss: 0.0203 - categorical_accuracy: 0.9956 - val_loss: 1.1554 - val_categorical_accuracy: 0.6900\n",
      "Epoch 9/10\n",
      "11/11 [==============================] - 99s 10s/step - loss: 0.0052 - categorical_accuracy: 0.9995 - val_loss: 1.1045 - val_categorical_accuracy: 0.7100\n",
      "\n",
      "Epoch 00009: ReduceLROnPlateau reducing learning rate to 0.0001250000059371814.\n",
      "Epoch 10/10\n",
      "11/11 [==============================] - 112s 11s/step - loss: 0.0071 - categorical_accuracy: 1.0000 - val_loss: 0.9218 - val_categorical_accuracy: 0.7400\n"
     ]
    }
   ],
   "source": [
    "# FITTING THE MODEL\n",
    "history = cnn_rnn_model5.fit(train_generator,\n",
    "          epochs=10,\n",
    "          callbacks=callbacks_list,\n",
    "          validation_data=val_generator, steps_per_epoch=steps_per_epoch,validation_steps=validation_steps)"
   ]
  },
  {
   "cell_type": "code",
   "execution_count": 23,
   "metadata": {},
   "outputs": [
    {
     "data": {
      "image/png": "[encoded data removed]",
      "text/plain": [
       "<Figure size 720x504 with 2 Axes>"
      ]
     },
     "metadata": {
      "needs_background": "light"
     },
     "output_type": "display_data"
    }
   ],
   "source": [
    "# PLotting Tranning and validation accuracy\n",
    "acc = history.history['categorical_accuracy']\n",
    "val_acc = history.history['val_categorical_accuracy']\n",
    "\n",
    "loss = history.history['loss']\n",
    "val_loss = history.history['val_loss']\n",
    "\n",
    "epochs_range = range(10)\n",
    "\n",
    "plt.figure(figsize=(10,7))\n",
    "plt.subplot(1, 2, 1)\n",
    "plt.plot(epochs_range, acc, label='Training Accuracy')\n",
    "plt.plot(epochs_range, val_acc, label='Validation Accuracy')\n",
    "plt.legend(loc='lower right')\n",
    "plt.title('Training and Validation Accuracy')\n",
    "\n",
    "plt.subplot(1, 2, 2)\n",
    "plt.plot(epochs_range, loss, label='Training Loss')\n",
    "plt.plot(epochs_range, val_loss, label='Validation Loss')\n",
    "plt.legend(loc='upper right')\n",
    "plt.title('Training and Validation Loss')\n",
    "plt.show()"
   ]
  },
  {
   "cell_type": "code",
   "execution_count": 24,
   "metadata": {},
   "outputs": [],
   "source": [
    "cnn_rnn_model5.save('model-12.h5')"
   ]
  },
  {
   "cell_type": "markdown",
   "metadata": {},
   "source": [
    "Model accuracy is not that much good enough"
   ]
  },
  {
   "cell_type": "markdown",
   "metadata": {},
   "source": [
    "- Trying LSTM instead of GRU"
   ]
  },
  {
   "cell_type": "code",
   "execution_count": 25,
   "metadata": {},
   "outputs": [],
   "source": [
    "base_model = ResNet50V2(include_top=False, weights='imagenet',input_shape=(ht,wd,3))\n",
    "x = base_model.output\n",
    "x = Flatten()(x)\n",
    "features = Dense(128, activation='relu')(x)\n",
    "conv_model = Model(inputs=base_model.input, outputs=features)\n",
    "\n",
    "for layer in base_model.layers:\n",
    "    layer.trainable = False\n"
   ]
  },
  {
   "cell_type": "code",
   "execution_count": 26,
   "metadata": {},
   "outputs": [],
   "source": [
    "\n",
    "# CNN-RNN MODEL 3\n",
    "cnn_rnn_model6 = Sequential([\n",
    "    TimeDistributed(conv_model, input_shape=(tot_frames,ht,wd,3)),\n",
    "    LSTM(160, return_sequences=True),\n",
    "    LSTM(320),\n",
    "    Dropout(0.25),\n",
    "    Dense(128, activation='relu'),\n",
    "    Dense(256, activation='relu'),   # Adding this new layer\n",
    "    Dense(num_classes, activation='softmax')\n",
    "])\n"
   ]
  },
  {
   "cell_type": "code",
   "execution_count": 27,
   "metadata": {},
   "outputs": [
    {
     "name": "stdout",
     "output_type": "stream",
     "text": [
      "Model: \"sequential_1\"\n",
      "_________________________________________________________________\n",
      "Layer (type)                 Output Shape              Param #   \n",
      "=================================================================\n",
      "time_distributed_1 (TimeDist (None, 18, 128)           25924224  \n",
      "_________________________________________________________________\n",
      "lstm (LSTM)                  (None, 18, 160)           184960    \n",
      "_________________________________________________________________\n",
      "lstm_1 (LSTM)                (None, 320)               615680    \n",
      "_________________________________________________________________\n",
      "dropout_1 (Dropout)          (None, 320)               0         \n",
      "_________________________________________________________________\n",
      "dense_4 (Dense)              (None, 128)               41088     \n",
      "_________________________________________________________________\n",
      "dense_5 (Dense)              (None, 256)               33024     \n",
      "_________________________________________________________________\n",
      "dense_6 (Dense)              (None, 5)                 1285      \n",
      "=================================================================\n",
      "Total params: 26,800,261\n",
      "Trainable params: 3,235,461\n",
      "Non-trainable params: 23,564,800\n",
      "_________________________________________________________________\n",
      "None\n"
     ]
    }
   ],
   "source": [
    "# COMPILING THE MODEL\n",
    "cnn_rnn_model6.compile(optimizer='adam',\n",
    "             loss='categorical_crossentropy',\n",
    "             metrics=['categorical_accuracy'])\n",
    "print(cnn_rnn_model6.summary())\n",
    "\n",
    "batch_size = 64\n",
    "\n"
   ]
  },
  {
   "cell_type": "code",
   "execution_count": 28,
   "metadata": {},
   "outputs": [],
   "source": [
    "# Training set\n",
    "if (num_train_sequences%batch_size) == 0:\n",
    "    steps_per_epoch = int(num_train_sequences/batch_size)\n",
    "else:\n",
    "    steps_per_epoch = int(num_train_sequences//batch_size) + 1\n",
    "    \n",
    "# Validation set\n",
    "if (num_val_sequences%batch_size) == 0:\n",
    "    validation_steps = int(num_val_sequences/batch_size)\n",
    "else:\n",
    "    validation_steps = int(num_val_sequences//batch_size) + 1\n"
   ]
  },
  {
   "cell_type": "code",
   "execution_count": 29,
   "metadata": {},
   "outputs": [],
   "source": [
    "train_generator = generator(train_path,train_doc,batch_size)\n",
    "val_generator = generator(val_path,val_doc,batch_size)\n"
   ]
  },
  {
   "cell_type": "code",
   "execution_count": 30,
   "metadata": {},
   "outputs": [
    {
     "name": "stdout",
     "output_type": "stream",
     "text": [
      "Source path =  Project_data/train ; batch size = 64\n",
      "Epoch 1/5\n",
      "11/11 [==============================] - ETA: 0s - loss: 1.5422 - categorical_accuracy: 0.2787Source path =  Project_data/val ; batch size = 64\n",
      "11/11 [==============================] - 133s 13s/step - loss: 1.5351 - categorical_accuracy: 0.2842 - val_loss: 1.1583 - val_categorical_accuracy: 0.4900\n",
      "Epoch 2/5\n",
      "11/11 [==============================] - 126s 13s/step - loss: 0.9535 - categorical_accuracy: 0.6170 - val_loss: 0.8689 - val_categorical_accuracy: 0.6600\n",
      "Epoch 3/5\n",
      "11/11 [==============================] - 120s 12s/step - loss: 0.6198 - categorical_accuracy: 0.7459 - val_loss: 0.8716 - val_categorical_accuracy: 0.6100\n",
      "Epoch 4/5\n",
      "11/11 [==============================] - 94s 9s/step - loss: 0.4458 - categorical_accuracy: 0.8465 - val_loss: 0.9959 - val_categorical_accuracy: 0.7000\n",
      "\n",
      "Epoch 00004: ReduceLROnPlateau reducing learning rate to 0.0005000000237487257.\n",
      "Epoch 5/5\n",
      "11/11 [==============================] - 139s 14s/step - loss: 0.2656 - categorical_accuracy: 0.9240 - val_loss: 1.1915 - val_categorical_accuracy: 0.6400\n"
     ]
    }
   ],
   "source": [
    "# FITTING THE MODEL\n",
    "history = cnn_rnn_model6.fit(train_generator,\n",
    "          epochs=5,\n",
    "          callbacks=callbacks_list,\n",
    "          validation_data=val_generator, steps_per_epoch=steps_per_epoch,validation_steps=validation_steps)"
   ]
  },
  {
   "cell_type": "code",
   "execution_count": 32,
   "metadata": {},
   "outputs": [
    {
     "data": {
      "image/png": "[encoded data removed]",
      "text/plain": [
       "<Figure size 720x504 with 2 Axes>"
      ]
     },
     "metadata": {
      "needs_background": "light"
     },
     "output_type": "display_data"
    }
   ],
   "source": [
    "# PLotting Tranning and validation accuracy\n",
    "acc = history.history['categorical_accuracy']\n",
    "val_acc = history.history['val_categorical_accuracy']\n",
    "\n",
    "loss = history.history['loss']\n",
    "val_loss = history.history['val_loss']\n",
    "\n",
    "epochs_range = range(5)\n",
    "\n",
    "plt.figure(figsize=(10,7))\n",
    "plt.subplot(1, 2, 1)\n",
    "plt.plot(epochs_range, acc, label='Training Accuracy')\n",
    "plt.plot(epochs_range, val_acc, label='Validation Accuracy')\n",
    "plt.legend(loc='lower right')\n",
    "plt.title('Training and Validation Accuracy')\n",
    "\n",
    "plt.subplot(1, 2, 2)\n",
    "plt.plot(epochs_range, loss, label='Training Loss')\n",
    "plt.plot(epochs_range, val_loss, label='Validation Loss')\n",
    "plt.legend(loc='upper right')\n",
    "plt.title('Training and Validation Loss')\n",
    "plt.show()"
   ]
  },
  {
   "cell_type": "code",
   "execution_count": 33,
   "metadata": {},
   "outputs": [],
   "source": [
    "cnn_rnn_model6.save('model-13.h5')"
   ]
  },
  {
   "cell_type": "markdown",
   "metadata": {},
   "source": [
    "Model accuracy is not that much good enough"
   ]
  },
  {
   "cell_type": "code",
   "execution_count": null,
   "metadata": {},
   "outputs": [],
   "source": []
  },
  {
   "cell_type": "code",
   "execution_count": null,
   "metadata": {},
   "outputs": [],
   "source": []
  },
  {
   "cell_type": "code",
   "execution_count": null,
   "metadata": {},
   "outputs": [],
   "source": []
  },
  {
   "cell_type": "code",
   "execution_count": null,
   "metadata": {},
   "outputs": [],
   "source": []
  }
 ],
 "metadata": {
  "kernelspec": {
   "display_name": "Python 3",
   "language": "python",
   "name": "python3"
  },
  "language_info": {
   "codemirror_mode": {
    "name": "ipython",
    "version": 3
   },
   "file_extension": ".py",
   "mimetype": "text/x-python",
   "name": "python",
   "nbconvert_exporter": "python",
   "pygments_lexer": "ipython3",
   "version": "3.8.8"
  }
 },
 "nbformat": 4,
 "nbformat_minor": 2
}
